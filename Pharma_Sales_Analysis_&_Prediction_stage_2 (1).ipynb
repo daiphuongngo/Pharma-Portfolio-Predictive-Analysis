{
  "nbformat": 4,
  "nbformat_minor": 0,
  "metadata": {
    "colab": {
      "name": "Pharma Sales Analysis & Prediction - stage 2.ipynb",
      "provenance": [],
      "collapsed_sections": [],
      "toc_visible": true
    },
    "kernelspec": {
      "name": "python3",
      "display_name": "Python 3"
    },
    "language_info": {
      "name": "python"
    }
  },
  "cells": [
    {
      "cell_type": "markdown",
      "source": [
        "## Libraries"
      ],
      "metadata": {
        "id": "ZWsehj6Z7AZm"
      }
    },
    {
      "cell_type": "code",
      "execution_count": 1,
      "metadata": {
        "id": "BVlEsru-6QH-"
      },
      "outputs": [],
      "source": [
        "import pandas as pd\n",
        "import numpy as np\n",
        "import matplotlib.pyplot as plt\n",
        "import re\n",
        "import calendar\n",
        "import calendar\n",
        "from datetime import datetime"
      ]
    },
    {
      "cell_type": "code",
      "source": [
        "from sklearn import linear_model\n",
        "from sklearn.cluster import KMeans\n",
        "from sklearn.decomposition import PCA\n",
        "from sklearn.model_selection import train_test_split\n",
        "from sklearn.preprocessing import StandardScaler\n",
        "from sklearn.preprocessing import PolynomialFeatures\n",
        "from sklearn.svm import SVR\n",
        "from sklearn.ensemble import VotingRegressor"
      ],
      "metadata": {
        "id": "tZzc3EWn8bXb"
      },
      "execution_count": 2,
      "outputs": []
    },
    {
      "cell_type": "code",
      "source": [
        "from pylab import rcParams\n",
        "rcParams['figure.figsize'] = 12, 8\n",
        "%matplotlib inline"
      ],
      "metadata": {
        "id": "Jnssy5jk8bUf"
      },
      "execution_count": 3,
      "outputs": []
    },
    {
      "cell_type": "code",
      "source": [
        "np.set_printoptions(precision=2)"
      ],
      "metadata": {
        "id": "X8BsDslQ8bRm"
      },
      "execution_count": 4,
      "outputs": []
    },
    {
      "cell_type": "code",
      "source": [
        "from google.colab import drive\n",
        "drive.mount('/content/drive')"
      ],
      "metadata": {
        "colab": {
          "base_uri": "https://localhost:8080/"
        },
        "id": "8uFvWh0V8o9c",
        "outputId": "1746bae0-7eeb-4418-f712-149a1b54a069"
      },
      "execution_count": 5,
      "outputs": [
        {
          "output_type": "stream",
          "name": "stdout",
          "text": [
            "Mounted at /content/drive\n"
          ]
        }
      ]
    },
    {
      "cell_type": "markdown",
      "source": [
        "## Load data"
      ],
      "metadata": {
        "id": "YWkrKY2R_1D9"
      }
    },
    {
      "cell_type": "code",
      "source": [
        "df_sales_daily = pd.read_csv('/content/drive/My Drive/Colab Notebooks/Projects/Pharma Sales/salesdaily.csv')"
      ],
      "metadata": {
        "id": "sVMlmT9F8rnI"
      },
      "execution_count": 6,
      "outputs": []
    },
    {
      "cell_type": "code",
      "source": [
        "df_sales_monthly = pd.read_csv('/content/drive/My Drive/Colab Notebooks/Projects/Pharma Sales/salesmonthly.csv')"
      ],
      "metadata": {
        "id": "ppQnh_AY_2Ya"
      },
      "execution_count": 7,
      "outputs": []
    },
    {
      "cell_type": "code",
      "source": [
        "df_sales_hourly = pd.read_csv('/content/drive/My Drive/Colab Notebooks/Projects/Pharma Sales/saleshourly.csv')"
      ],
      "metadata": {
        "id": "KcYUg2m__2TL"
      },
      "execution_count": 8,
      "outputs": []
    },
    {
      "cell_type": "code",
      "source": [
        "df_sales_daily.head()"
      ],
      "metadata": {
        "colab": {
          "base_uri": "https://localhost:8080/",
          "height": 287
        },
        "id": "cKUqbaLO-ePk",
        "outputId": "6e1e0c76-9200-43cb-990a-cd49f1c8eb05"
      },
      "execution_count": 9,
      "outputs": [
        {
          "output_type": "execute_result",
          "data": {
            "text/plain": [
              "      datum  M01AB  M01AE  N02BA  N02BE  N05B  N05C   R03  R06  Year  Month  \\\n",
              "0  1/2/2014    0.0   3.67    3.4  32.40   7.0   0.0   0.0  2.0  2014      1   \n",
              "1  1/3/2014    8.0   4.00    4.4  50.60  16.0   0.0  20.0  4.0  2014      1   \n",
              "2  1/4/2014    2.0   1.00    6.5  61.85  10.0   0.0   9.0  1.0  2014      1   \n",
              "3  1/5/2014    4.0   3.00    7.0  41.10   8.0   0.0   3.0  0.0  2014      1   \n",
              "4  1/6/2014    5.0   1.00    4.5  21.70  16.0   2.0   6.0  2.0  2014      1   \n",
              "\n",
              "   Hour Weekday Name  \n",
              "0   248     Thursday  \n",
              "1   276       Friday  \n",
              "2   276     Saturday  \n",
              "3   276       Sunday  \n",
              "4   276       Monday  "
            ],
            "text/html": [
              "\n",
              "  <div id=\"df-35a6048f-65b0-44f3-b5ef-70a2cc94b722\">\n",
              "    <div class=\"colab-df-container\">\n",
              "      <div>\n",
              "<style scoped>\n",
              "    .dataframe tbody tr th:only-of-type {\n",
              "        vertical-align: middle;\n",
              "    }\n",
              "\n",
              "    .dataframe tbody tr th {\n",
              "        vertical-align: top;\n",
              "    }\n",
              "\n",
              "    .dataframe thead th {\n",
              "        text-align: right;\n",
              "    }\n",
              "</style>\n",
              "<table border=\"1\" class=\"dataframe\">\n",
              "  <thead>\n",
              "    <tr style=\"text-align: right;\">\n",
              "      <th></th>\n",
              "      <th>datum</th>\n",
              "      <th>M01AB</th>\n",
              "      <th>M01AE</th>\n",
              "      <th>N02BA</th>\n",
              "      <th>N02BE</th>\n",
              "      <th>N05B</th>\n",
              "      <th>N05C</th>\n",
              "      <th>R03</th>\n",
              "      <th>R06</th>\n",
              "      <th>Year</th>\n",
              "      <th>Month</th>\n",
              "      <th>Hour</th>\n",
              "      <th>Weekday Name</th>\n",
              "    </tr>\n",
              "  </thead>\n",
              "  <tbody>\n",
              "    <tr>\n",
              "      <th>0</th>\n",
              "      <td>1/2/2014</td>\n",
              "      <td>0.0</td>\n",
              "      <td>3.67</td>\n",
              "      <td>3.4</td>\n",
              "      <td>32.40</td>\n",
              "      <td>7.0</td>\n",
              "      <td>0.0</td>\n",
              "      <td>0.0</td>\n",
              "      <td>2.0</td>\n",
              "      <td>2014</td>\n",
              "      <td>1</td>\n",
              "      <td>248</td>\n",
              "      <td>Thursday</td>\n",
              "    </tr>\n",
              "    <tr>\n",
              "      <th>1</th>\n",
              "      <td>1/3/2014</td>\n",
              "      <td>8.0</td>\n",
              "      <td>4.00</td>\n",
              "      <td>4.4</td>\n",
              "      <td>50.60</td>\n",
              "      <td>16.0</td>\n",
              "      <td>0.0</td>\n",
              "      <td>20.0</td>\n",
              "      <td>4.0</td>\n",
              "      <td>2014</td>\n",
              "      <td>1</td>\n",
              "      <td>276</td>\n",
              "      <td>Friday</td>\n",
              "    </tr>\n",
              "    <tr>\n",
              "      <th>2</th>\n",
              "      <td>1/4/2014</td>\n",
              "      <td>2.0</td>\n",
              "      <td>1.00</td>\n",
              "      <td>6.5</td>\n",
              "      <td>61.85</td>\n",
              "      <td>10.0</td>\n",
              "      <td>0.0</td>\n",
              "      <td>9.0</td>\n",
              "      <td>1.0</td>\n",
              "      <td>2014</td>\n",
              "      <td>1</td>\n",
              "      <td>276</td>\n",
              "      <td>Saturday</td>\n",
              "    </tr>\n",
              "    <tr>\n",
              "      <th>3</th>\n",
              "      <td>1/5/2014</td>\n",
              "      <td>4.0</td>\n",
              "      <td>3.00</td>\n",
              "      <td>7.0</td>\n",
              "      <td>41.10</td>\n",
              "      <td>8.0</td>\n",
              "      <td>0.0</td>\n",
              "      <td>3.0</td>\n",
              "      <td>0.0</td>\n",
              "      <td>2014</td>\n",
              "      <td>1</td>\n",
              "      <td>276</td>\n",
              "      <td>Sunday</td>\n",
              "    </tr>\n",
              "    <tr>\n",
              "      <th>4</th>\n",
              "      <td>1/6/2014</td>\n",
              "      <td>5.0</td>\n",
              "      <td>1.00</td>\n",
              "      <td>4.5</td>\n",
              "      <td>21.70</td>\n",
              "      <td>16.0</td>\n",
              "      <td>2.0</td>\n",
              "      <td>6.0</td>\n",
              "      <td>2.0</td>\n",
              "      <td>2014</td>\n",
              "      <td>1</td>\n",
              "      <td>276</td>\n",
              "      <td>Monday</td>\n",
              "    </tr>\n",
              "  </tbody>\n",
              "</table>\n",
              "</div>\n",
              "      <button class=\"colab-df-convert\" onclick=\"convertToInteractive('df-35a6048f-65b0-44f3-b5ef-70a2cc94b722')\"\n",
              "              title=\"Convert this dataframe to an interactive table.\"\n",
              "              style=\"display:none;\">\n",
              "        \n",
              "  <svg xmlns=\"http://www.w3.org/2000/svg\" height=\"24px\"viewBox=\"0 0 24 24\"\n",
              "       width=\"24px\">\n",
              "    <path d=\"M0 0h24v24H0V0z\" fill=\"none\"/>\n",
              "    <path d=\"M18.56 5.44l.94 2.06.94-2.06 2.06-.94-2.06-.94-.94-2.06-.94 2.06-2.06.94zm-11 1L8.5 8.5l.94-2.06 2.06-.94-2.06-.94L8.5 2.5l-.94 2.06-2.06.94zm10 10l.94 2.06.94-2.06 2.06-.94-2.06-.94-.94-2.06-.94 2.06-2.06.94z\"/><path d=\"M17.41 7.96l-1.37-1.37c-.4-.4-.92-.59-1.43-.59-.52 0-1.04.2-1.43.59L10.3 9.45l-7.72 7.72c-.78.78-.78 2.05 0 2.83L4 21.41c.39.39.9.59 1.41.59.51 0 1.02-.2 1.41-.59l7.78-7.78 2.81-2.81c.8-.78.8-2.07 0-2.86zM5.41 20L4 18.59l7.72-7.72 1.47 1.35L5.41 20z\"/>\n",
              "  </svg>\n",
              "      </button>\n",
              "      \n",
              "  <style>\n",
              "    .colab-df-container {\n",
              "      display:flex;\n",
              "      flex-wrap:wrap;\n",
              "      gap: 12px;\n",
              "    }\n",
              "\n",
              "    .colab-df-convert {\n",
              "      background-color: #E8F0FE;\n",
              "      border: none;\n",
              "      border-radius: 50%;\n",
              "      cursor: pointer;\n",
              "      display: none;\n",
              "      fill: #1967D2;\n",
              "      height: 32px;\n",
              "      padding: 0 0 0 0;\n",
              "      width: 32px;\n",
              "    }\n",
              "\n",
              "    .colab-df-convert:hover {\n",
              "      background-color: #E2EBFA;\n",
              "      box-shadow: 0px 1px 2px rgba(60, 64, 67, 0.3), 0px 1px 3px 1px rgba(60, 64, 67, 0.15);\n",
              "      fill: #174EA6;\n",
              "    }\n",
              "\n",
              "    [theme=dark] .colab-df-convert {\n",
              "      background-color: #3B4455;\n",
              "      fill: #D2E3FC;\n",
              "    }\n",
              "\n",
              "    [theme=dark] .colab-df-convert:hover {\n",
              "      background-color: #434B5C;\n",
              "      box-shadow: 0px 1px 3px 1px rgba(0, 0, 0, 0.15);\n",
              "      filter: drop-shadow(0px 1px 2px rgba(0, 0, 0, 0.3));\n",
              "      fill: #FFFFFF;\n",
              "    }\n",
              "  </style>\n",
              "\n",
              "      <script>\n",
              "        const buttonEl =\n",
              "          document.querySelector('#df-35a6048f-65b0-44f3-b5ef-70a2cc94b722 button.colab-df-convert');\n",
              "        buttonEl.style.display =\n",
              "          google.colab.kernel.accessAllowed ? 'block' : 'none';\n",
              "\n",
              "        async function convertToInteractive(key) {\n",
              "          const element = document.querySelector('#df-35a6048f-65b0-44f3-b5ef-70a2cc94b722');\n",
              "          const dataTable =\n",
              "            await google.colab.kernel.invokeFunction('convertToInteractive',\n",
              "                                                     [key], {});\n",
              "          if (!dataTable) return;\n",
              "\n",
              "          const docLinkHtml = 'Like what you see? Visit the ' +\n",
              "            '<a target=\"_blank\" href=https://colab.research.google.com/notebooks/data_table.ipynb>data table notebook</a>'\n",
              "            + ' to learn more about interactive tables.';\n",
              "          element.innerHTML = '';\n",
              "          dataTable['output_type'] = 'display_data';\n",
              "          await google.colab.output.renderOutput(dataTable, element);\n",
              "          const docLink = document.createElement('div');\n",
              "          docLink.innerHTML = docLinkHtml;\n",
              "          element.appendChild(docLink);\n",
              "        }\n",
              "      </script>\n",
              "    </div>\n",
              "  </div>\n",
              "  "
            ]
          },
          "metadata": {},
          "execution_count": 9
        }
      ]
    },
    {
      "cell_type": "markdown",
      "source": [
        "## Data Analysis"
      ],
      "metadata": {
        "id": "r1BRKMVjdNAN"
      }
    },
    {
      "cell_type": "markdown",
      "source": [
        "### M01AB drug by Weekday"
      ],
      "metadata": {
        "id": "Gammoab1ZqFp"
      }
    },
    {
      "cell_type": "code",
      "source": [
        "df_sales_daily_M01AB = df_sales_daily[['M01AB', 'Weekday Name']]\n",
        "result_M01AB = df_sales_daily_M01AB.groupby(['Weekday Name'], as_index=False).sum().sort_values('M01AB', ascending=False)"
      ],
      "metadata": {
        "id": "Fb0JLuc3Zpu_"
      },
      "execution_count": 10,
      "outputs": []
    },
    {
      "cell_type": "code",
      "source": [
        "result_day_M01AB = result_M01AB.iloc[0,0]"
      ],
      "metadata": {
        "id": "2wuPxmaGZr0O"
      },
      "execution_count": 11,
      "outputs": []
    },
    {
      "cell_type": "code",
      "source": [
        "result_value_M01AB = round(result_M01AB.iloc[0,1], 2)"
      ],
      "metadata": {
        "id": "-4RvHCAzaDK1"
      },
      "execution_count": 12,
      "outputs": []
    },
    {
      "cell_type": "code",
      "source": [
        "print('The 1st drug, M01AB, was most frequently sold on ' + str(result_day_M01AB) \n",
        "      + ' with the volume of ' + str(result_value_M01AB))"
      ],
      "metadata": {
        "colab": {
          "base_uri": "https://localhost:8080/"
        },
        "id": "3h4Bi6DFZrw_",
        "outputId": "192dea3f-159d-4c68-fc3a-949e78e61a51"
      },
      "execution_count": 13,
      "outputs": [
        {
          "output_type": "stream",
          "name": "stdout",
          "text": [
            "The 1st drug, M01AB, was most frequently sold on Saturday with the volume of 1724.05\n"
          ]
        }
      ]
    },
    {
      "cell_type": "markdown",
      "source": [
        "### M01AE drug by Weekday"
      ],
      "metadata": {
        "id": "a-nCqoYL_pGA"
      }
    },
    {
      "cell_type": "code",
      "source": [
        "df_sales_daily_M01AE = df_sales_daily[['M01AE', 'Weekday Name']]\n",
        "result_M01AE = df_sales_daily_M01AE.groupby(['Weekday Name'], as_index=False).sum().sort_values('M01AE', ascending=False)"
      ],
      "metadata": {
        "id": "3BwQppR--hIB"
      },
      "execution_count": 14,
      "outputs": []
    },
    {
      "cell_type": "code",
      "source": [
        "result_day_M01AE = result_M01AE.iloc[0,0]"
      ],
      "metadata": {
        "id": "p4zO4USQ-9At"
      },
      "execution_count": 15,
      "outputs": []
    },
    {
      "cell_type": "code",
      "source": [
        "result_value_M01AE = round(result_M01AE.iloc[0,1], 2)"
      ],
      "metadata": {
        "id": "zLxy5DHv_LKV"
      },
      "execution_count": 16,
      "outputs": []
    },
    {
      "cell_type": "code",
      "source": [
        "print('The 2nd drug, M01AE, was most frequently sold on ' + str(result_day_M01AE) \n",
        "      + ' with the volume of ' + str(result_value_M01AE))"
      ],
      "metadata": {
        "colab": {
          "base_uri": "https://localhost:8080/"
        },
        "id": "uVe0SZHQ_RlJ",
        "outputId": "d1bfb771-3fd9-43ac-9531-8e8acb197c32"
      },
      "execution_count": 17,
      "outputs": [
        {
          "output_type": "stream",
          "name": "stdout",
          "text": [
            "The 2nd drug, M01AE, was most frequently sold on Sunday with the volume of 1384.94\n"
          ]
        }
      ]
    },
    {
      "cell_type": "markdown",
      "source": [
        "### N02BA drug by Weekday"
      ],
      "metadata": {
        "id": "nXIky_QeaQJ8"
      }
    },
    {
      "cell_type": "code",
      "source": [
        "df_sales_daily_N02BA = df_sales_daily[['N02BA', 'Weekday Name']]\n",
        "result_N02BA = df_sales_daily_N02BA.groupby(['Weekday Name'], as_index=False).sum().sort_values('N02BA', ascending=False)"
      ],
      "metadata": {
        "id": "c0406ljYaP6F"
      },
      "execution_count": 18,
      "outputs": []
    },
    {
      "cell_type": "code",
      "source": [
        "result_day_N02BA = result_N02BA.iloc[0,0]"
      ],
      "metadata": {
        "id": "-KncC88WaYzI"
      },
      "execution_count": 19,
      "outputs": []
    },
    {
      "cell_type": "code",
      "source": [
        "result_value_N02BA = round(result_N02BA.iloc[0,1], 2)"
      ],
      "metadata": {
        "id": "6ewcA0vCaP3O"
      },
      "execution_count": 20,
      "outputs": []
    },
    {
      "cell_type": "code",
      "source": [
        "print('The 3rd drug, N02BA, was most frequently sold on ' + str(result_day_N02BA) \n",
        "      + ' with the volume of ' + str(result_value_N02BA))"
      ],
      "metadata": {
        "colab": {
          "base_uri": "https://localhost:8080/"
        },
        "id": "B6-ijUrjaP0V",
        "outputId": "fdd26ab1-f7e6-4e03-8654-8628e7b5d9fc"
      },
      "execution_count": 21,
      "outputs": [
        {
          "output_type": "stream",
          "name": "stdout",
          "text": [
            "The 3rd drug, N02BA, was most frequently sold on Tuesday with the volume of 1272.97\n"
          ]
        }
      ]
    },
    {
      "cell_type": "markdown",
      "source": [
        "### N02BE drug by Weekday"
      ],
      "metadata": {
        "id": "8u4_MvtBanQB"
      }
    },
    {
      "cell_type": "code",
      "source": [
        "df_sales_daily_N02BE = df_sales_daily[['N02BE', 'Weekday Name']]\n",
        "result_N02BE = df_sales_daily_N02BE.groupby(['Weekday Name'], as_index=False).sum().sort_values('N02BE', ascending=False)"
      ],
      "metadata": {
        "id": "OnCm9l-naPu0"
      },
      "execution_count": 22,
      "outputs": []
    },
    {
      "cell_type": "code",
      "source": [
        "result_day_N02BE = result_N02BE.iloc[0,0]"
      ],
      "metadata": {
        "id": "427vZVuSaPsJ"
      },
      "execution_count": 23,
      "outputs": []
    },
    {
      "cell_type": "code",
      "source": [
        "result_value_N02BE = round(result_N02BE.iloc[0,1], 2)"
      ],
      "metadata": {
        "id": "qAZleuphaPpZ"
      },
      "execution_count": 24,
      "outputs": []
    },
    {
      "cell_type": "code",
      "source": [
        "print('The 4th drug, N02BE, was most frequently sold on ' + str(result_day_N02BE) \n",
        "      + ' with the volume of ' + str(result_value_N02BE))"
      ],
      "metadata": {
        "colab": {
          "base_uri": "https://localhost:8080/"
        },
        "id": "kvV1YWEXaPmg",
        "outputId": "ba1d1377-6085-4fed-c581-dd0c1b2bdcfc"
      },
      "execution_count": 25,
      "outputs": [
        {
          "output_type": "stream",
          "name": "stdout",
          "text": [
            "The 4th drug, N02BE, was most frequently sold on Saturday with the volume of 10107.5\n"
          ]
        }
      ]
    },
    {
      "cell_type": "markdown",
      "source": [
        "### N05B drug by Weekday"
      ],
      "metadata": {
        "id": "Gm4kYdefassQ"
      }
    },
    {
      "cell_type": "code",
      "source": [
        "df_sales_daily_N05B = df_sales_daily[['N05B', 'Weekday Name']]\n",
        "result_N05B = df_sales_daily_N05B.groupby(['Weekday Name'], as_index=False).sum().sort_values('N05B', ascending=False)"
      ],
      "metadata": {
        "id": "KclwI96raPkA"
      },
      "execution_count": 26,
      "outputs": []
    },
    {
      "cell_type": "code",
      "source": [
        "result_day_N05B = result_N05B.iloc[0,0]"
      ],
      "metadata": {
        "id": "9ZBjp2q5aPhQ"
      },
      "execution_count": 27,
      "outputs": []
    },
    {
      "cell_type": "code",
      "source": [
        "result_value_N05B = round(result_N05B.iloc[0,1], 2)"
      ],
      "metadata": {
        "id": "5DWuKV1daPer"
      },
      "execution_count": 28,
      "outputs": []
    },
    {
      "cell_type": "code",
      "source": [
        "print('The 5th drug, N05B, was most frequently sold on ' + str(result_day_N05B) \n",
        "      + ' with the volume of ' + str(result_value_N05B))"
      ],
      "metadata": {
        "colab": {
          "base_uri": "https://localhost:8080/"
        },
        "id": "ESfK9i_daPbg",
        "outputId": "a817ae05-002d-4dc0-cc40-b24c50e6f924"
      },
      "execution_count": 29,
      "outputs": [
        {
          "output_type": "stream",
          "name": "stdout",
          "text": [
            "The 5th drug, N05B, was most frequently sold on Wednesday with the volume of 3037.18\n"
          ]
        }
      ]
    },
    {
      "cell_type": "markdown",
      "source": [
        "### N05C drug by Weekday"
      ],
      "metadata": {
        "id": "qTkf2tKQa9KK"
      }
    },
    {
      "cell_type": "code",
      "source": [
        "df_sales_daily_N05C = df_sales_daily[['N05C', 'Weekday Name']]\n",
        "result_N05C = df_sales_daily_N05C.groupby(['Weekday Name'], as_index=False).sum().sort_values('N05C', ascending=False)"
      ],
      "metadata": {
        "id": "tNw4xAiCaPYw"
      },
      "execution_count": 30,
      "outputs": []
    },
    {
      "cell_type": "code",
      "source": [
        "result_day_N05C = result_N05C.iloc[0,0]"
      ],
      "metadata": {
        "id": "LtISgRo_aPWG"
      },
      "execution_count": 31,
      "outputs": []
    },
    {
      "cell_type": "code",
      "source": [
        "result_value_N05C = round(result_N05C.iloc[0,1], 2)"
      ],
      "metadata": {
        "id": "lqqkFIZsbL8R"
      },
      "execution_count": 32,
      "outputs": []
    },
    {
      "cell_type": "code",
      "source": [
        "print('The 6th drug, N05C, was most frequently sold on ' + str(result_day_N05C) \n",
        "      + ' with the volume of ' + str(result_value_N05C))"
      ],
      "metadata": {
        "colab": {
          "base_uri": "https://localhost:8080/"
        },
        "id": "jEcBArcJbMZx",
        "outputId": "deefd039-dc24-46f6-9334-499d62d8ceaa"
      },
      "execution_count": 33,
      "outputs": [
        {
          "output_type": "stream",
          "name": "stdout",
          "text": [
            "The 6th drug, N05C, was most frequently sold on Friday with the volume of 229.5\n"
          ]
        }
      ]
    },
    {
      "cell_type": "markdown",
      "source": [
        "### R03 drug by Weekday"
      ],
      "metadata": {
        "id": "K1MXmubHbWL6"
      }
    },
    {
      "cell_type": "code",
      "source": [
        "df_sales_daily_R03 = df_sales_daily[['R03', 'Weekday Name']]\n",
        "result_R03 = df_sales_daily_R03.groupby(['Weekday Name'], as_index=False).sum().sort_values('R03', ascending=False)"
      ],
      "metadata": {
        "id": "dgQu-6SVbWfY"
      },
      "execution_count": 34,
      "outputs": []
    },
    {
      "cell_type": "code",
      "source": [
        "result_day_R03 = result_R03.iloc[0,0]"
      ],
      "metadata": {
        "id": "-PNMrCBhbXD3"
      },
      "execution_count": 35,
      "outputs": []
    },
    {
      "cell_type": "code",
      "source": [
        "result_value_R03 = round(result_R03.iloc[0,1], 2)"
      ],
      "metadata": {
        "id": "SAVCmGHjbW-F"
      },
      "execution_count": 36,
      "outputs": []
    },
    {
      "cell_type": "code",
      "source": [
        "print('The 7th drug, R03, was most frequently sold on ' + str(result_day_R03) \n",
        "      + ' with the volume of ' + str(result_value_R03))"
      ],
      "metadata": {
        "colab": {
          "base_uri": "https://localhost:8080/"
        },
        "id": "dpo5WwbxbW2g",
        "outputId": "16a4c628-3ac8-4004-9116-75711632c55b"
      },
      "execution_count": 37,
      "outputs": [
        {
          "output_type": "stream",
          "name": "stdout",
          "text": [
            "The 7th drug, R03, was most frequently sold on Monday with the volume of 1791.46\n"
          ]
        }
      ]
    },
    {
      "cell_type": "markdown",
      "source": [
        "### R06 drug by Weekday"
      ],
      "metadata": {
        "id": "PINqqJ9CbXec"
      }
    },
    {
      "cell_type": "code",
      "source": [
        "df_sales_daily_R06 = df_sales_daily[['R06', 'Weekday Name']]\n",
        "result_R06 = df_sales_daily_R06.groupby(['Weekday Name'], as_index=False).sum().sort_values('R06', ascending=False)"
      ],
      "metadata": {
        "id": "ctWjt566bXyO"
      },
      "execution_count": 38,
      "outputs": []
    },
    {
      "cell_type": "code",
      "source": [
        "result_day_R06 = result_R06.iloc[0,0]"
      ],
      "metadata": {
        "id": "-iR-IQ5PbYdl"
      },
      "execution_count": 39,
      "outputs": []
    },
    {
      "cell_type": "code",
      "source": [
        "result_value_R06 = round(result_R06.iloc[0,1], 2)"
      ],
      "metadata": {
        "id": "gFllkZtpbYQJ"
      },
      "execution_count": 40,
      "outputs": []
    },
    {
      "cell_type": "code",
      "source": [
        "print('The 8th drug, R06, was most frequently sold on ' + str(result_day_R06) \n",
        "      + ' with the volume of ' + str(result_value_R06))"
      ],
      "metadata": {
        "colab": {
          "base_uri": "https://localhost:8080/"
        },
        "id": "dM7lmp5zbYG2",
        "outputId": "d1e126d6-b080-47d2-fd00-5dd1ca5c630c"
      },
      "execution_count": 41,
      "outputs": [
        {
          "output_type": "stream",
          "name": "stdout",
          "text": [
            "The 8th drug, R06, was most frequently sold on Saturday with the volume of 986.46\n"
          ]
        }
      ]
    },
    {
      "cell_type": "markdown",
      "source": [
        "## Top 3 drugs gaving the largest sales in January 2015, July 2016, September 2017"
      ],
      "metadata": {
        "id": "70ifrnu5_9w5"
      }
    },
    {
      "cell_type": "code",
      "source": [
        "df_sales_monthly.head()"
      ],
      "metadata": {
        "colab": {
          "base_uri": "https://localhost:8080/",
          "height": 206
        },
        "id": "yR0507Kl_mBU",
        "outputId": "0c3b35d0-6afe-4a1f-8d0a-23b6bfd8d564"
      },
      "execution_count": 42,
      "outputs": [
        {
          "output_type": "execute_result",
          "data": {
            "text/plain": [
              "        datum   M01AB    M01AE    N02BA     N02BE   N05B  N05C    R03    R06\n",
              "0  2014-01-31  127.69   99.090  152.100   878.030  354.0  50.0  112.0   48.2\n",
              "1  2014-02-28  133.32  126.050  177.000  1001.900  347.0  31.0  122.0   36.2\n",
              "2  2014-03-31  137.44   92.950  147.655   779.275  232.0  20.0  112.0   85.4\n",
              "3  2014-04-30  113.10   89.475  130.900   698.500  209.0  18.0   97.0   73.7\n",
              "4  2014-05-31  101.79  119.933  132.100   628.780  270.0  23.0  107.0  123.7"
            ],
            "text/html": [
              "\n",
              "  <div id=\"df-c5324b79-fb44-4dba-9314-bb7cbcc5a6e6\">\n",
              "    <div class=\"colab-df-container\">\n",
              "      <div>\n",
              "<style scoped>\n",
              "    .dataframe tbody tr th:only-of-type {\n",
              "        vertical-align: middle;\n",
              "    }\n",
              "\n",
              "    .dataframe tbody tr th {\n",
              "        vertical-align: top;\n",
              "    }\n",
              "\n",
              "    .dataframe thead th {\n",
              "        text-align: right;\n",
              "    }\n",
              "</style>\n",
              "<table border=\"1\" class=\"dataframe\">\n",
              "  <thead>\n",
              "    <tr style=\"text-align: right;\">\n",
              "      <th></th>\n",
              "      <th>datum</th>\n",
              "      <th>M01AB</th>\n",
              "      <th>M01AE</th>\n",
              "      <th>N02BA</th>\n",
              "      <th>N02BE</th>\n",
              "      <th>N05B</th>\n",
              "      <th>N05C</th>\n",
              "      <th>R03</th>\n",
              "      <th>R06</th>\n",
              "    </tr>\n",
              "  </thead>\n",
              "  <tbody>\n",
              "    <tr>\n",
              "      <th>0</th>\n",
              "      <td>2014-01-31</td>\n",
              "      <td>127.69</td>\n",
              "      <td>99.090</td>\n",
              "      <td>152.100</td>\n",
              "      <td>878.030</td>\n",
              "      <td>354.0</td>\n",
              "      <td>50.0</td>\n",
              "      <td>112.0</td>\n",
              "      <td>48.2</td>\n",
              "    </tr>\n",
              "    <tr>\n",
              "      <th>1</th>\n",
              "      <td>2014-02-28</td>\n",
              "      <td>133.32</td>\n",
              "      <td>126.050</td>\n",
              "      <td>177.000</td>\n",
              "      <td>1001.900</td>\n",
              "      <td>347.0</td>\n",
              "      <td>31.0</td>\n",
              "      <td>122.0</td>\n",
              "      <td>36.2</td>\n",
              "    </tr>\n",
              "    <tr>\n",
              "      <th>2</th>\n",
              "      <td>2014-03-31</td>\n",
              "      <td>137.44</td>\n",
              "      <td>92.950</td>\n",
              "      <td>147.655</td>\n",
              "      <td>779.275</td>\n",
              "      <td>232.0</td>\n",
              "      <td>20.0</td>\n",
              "      <td>112.0</td>\n",
              "      <td>85.4</td>\n",
              "    </tr>\n",
              "    <tr>\n",
              "      <th>3</th>\n",
              "      <td>2014-04-30</td>\n",
              "      <td>113.10</td>\n",
              "      <td>89.475</td>\n",
              "      <td>130.900</td>\n",
              "      <td>698.500</td>\n",
              "      <td>209.0</td>\n",
              "      <td>18.0</td>\n",
              "      <td>97.0</td>\n",
              "      <td>73.7</td>\n",
              "    </tr>\n",
              "    <tr>\n",
              "      <th>4</th>\n",
              "      <td>2014-05-31</td>\n",
              "      <td>101.79</td>\n",
              "      <td>119.933</td>\n",
              "      <td>132.100</td>\n",
              "      <td>628.780</td>\n",
              "      <td>270.0</td>\n",
              "      <td>23.0</td>\n",
              "      <td>107.0</td>\n",
              "      <td>123.7</td>\n",
              "    </tr>\n",
              "  </tbody>\n",
              "</table>\n",
              "</div>\n",
              "      <button class=\"colab-df-convert\" onclick=\"convertToInteractive('df-c5324b79-fb44-4dba-9314-bb7cbcc5a6e6')\"\n",
              "              title=\"Convert this dataframe to an interactive table.\"\n",
              "              style=\"display:none;\">\n",
              "        \n",
              "  <svg xmlns=\"http://www.w3.org/2000/svg\" height=\"24px\"viewBox=\"0 0 24 24\"\n",
              "       width=\"24px\">\n",
              "    <path d=\"M0 0h24v24H0V0z\" fill=\"none\"/>\n",
              "    <path d=\"M18.56 5.44l.94 2.06.94-2.06 2.06-.94-2.06-.94-.94-2.06-.94 2.06-2.06.94zm-11 1L8.5 8.5l.94-2.06 2.06-.94-2.06-.94L8.5 2.5l-.94 2.06-2.06.94zm10 10l.94 2.06.94-2.06 2.06-.94-2.06-.94-.94-2.06-.94 2.06-2.06.94z\"/><path d=\"M17.41 7.96l-1.37-1.37c-.4-.4-.92-.59-1.43-.59-.52 0-1.04.2-1.43.59L10.3 9.45l-7.72 7.72c-.78.78-.78 2.05 0 2.83L4 21.41c.39.39.9.59 1.41.59.51 0 1.02-.2 1.41-.59l7.78-7.78 2.81-2.81c.8-.78.8-2.07 0-2.86zM5.41 20L4 18.59l7.72-7.72 1.47 1.35L5.41 20z\"/>\n",
              "  </svg>\n",
              "      </button>\n",
              "      \n",
              "  <style>\n",
              "    .colab-df-container {\n",
              "      display:flex;\n",
              "      flex-wrap:wrap;\n",
              "      gap: 12px;\n",
              "    }\n",
              "\n",
              "    .colab-df-convert {\n",
              "      background-color: #E8F0FE;\n",
              "      border: none;\n",
              "      border-radius: 50%;\n",
              "      cursor: pointer;\n",
              "      display: none;\n",
              "      fill: #1967D2;\n",
              "      height: 32px;\n",
              "      padding: 0 0 0 0;\n",
              "      width: 32px;\n",
              "    }\n",
              "\n",
              "    .colab-df-convert:hover {\n",
              "      background-color: #E2EBFA;\n",
              "      box-shadow: 0px 1px 2px rgba(60, 64, 67, 0.3), 0px 1px 3px 1px rgba(60, 64, 67, 0.15);\n",
              "      fill: #174EA6;\n",
              "    }\n",
              "\n",
              "    [theme=dark] .colab-df-convert {\n",
              "      background-color: #3B4455;\n",
              "      fill: #D2E3FC;\n",
              "    }\n",
              "\n",
              "    [theme=dark] .colab-df-convert:hover {\n",
              "      background-color: #434B5C;\n",
              "      box-shadow: 0px 1px 3px 1px rgba(0, 0, 0, 0.15);\n",
              "      filter: drop-shadow(0px 1px 2px rgba(0, 0, 0, 0.3));\n",
              "      fill: #FFFFFF;\n",
              "    }\n",
              "  </style>\n",
              "\n",
              "      <script>\n",
              "        const buttonEl =\n",
              "          document.querySelector('#df-c5324b79-fb44-4dba-9314-bb7cbcc5a6e6 button.colab-df-convert');\n",
              "        buttonEl.style.display =\n",
              "          google.colab.kernel.accessAllowed ? 'block' : 'none';\n",
              "\n",
              "        async function convertToInteractive(key) {\n",
              "          const element = document.querySelector('#df-c5324b79-fb44-4dba-9314-bb7cbcc5a6e6');\n",
              "          const dataTable =\n",
              "            await google.colab.kernel.invokeFunction('convertToInteractive',\n",
              "                                                     [key], {});\n",
              "          if (!dataTable) return;\n",
              "\n",
              "          const docLinkHtml = 'Like what you see? Visit the ' +\n",
              "            '<a target=\"_blank\" href=https://colab.research.google.com/notebooks/data_table.ipynb>data table notebook</a>'\n",
              "            + ' to learn more about interactive tables.';\n",
              "          element.innerHTML = '';\n",
              "          dataTable['output_type'] = 'display_data';\n",
              "          await google.colab.output.renderOutput(dataTable, element);\n",
              "          const docLink = document.createElement('div');\n",
              "          docLink.innerHTML = docLinkHtml;\n",
              "          element.appendChild(docLink);\n",
              "        }\n",
              "      </script>\n",
              "    </div>\n",
              "  </div>\n",
              "  "
            ]
          },
          "metadata": {},
          "execution_count": 42
        }
      ]
    },
    {
      "cell_type": "code",
      "source": [
        "def top_3_drugs_by_month(month, year):\n",
        "    month = str(month) if (month > 9) else '0' + str(month)\n",
        "    year = str(year)\n",
        "\n",
        "    # Filter by Date\n",
        "    sales = df_sales_monthly.loc[df_sales_monthly['datum'].str.contains('^' + year + '\\-' + month + '' , flags=re.I, regex=True)]\n",
        "    \n",
        "    # Reset index\n",
        "    sales = sales.reset_index()\n",
        "    \n",
        "    # Filter chosen drugs\n",
        "    top_Sales_by_Product = sales[['M01AB', 'M01AE', 'N02BA', 'N02BE', 'N05B', 'N05C', 'R03', 'R06']]\n",
        "    \n",
        "    # Sort values horizontally in descending order\n",
        "    top_Sales_by_Product = top_Sales_by_Product.sort_values(by=0, ascending=False, axis=1)\n",
        "    \n",
        "    # Print results\n",
        "    print('Top 3 Drugs by Sale in ' + calendar.month_name[int(month)] + ' ' + year)\n",
        "    for drug in top_Sales_by_Product.columns.values[0:3]:\n",
        "        print(' - Product: ' + str(drug) + ', Volume sold: ' + str(round(top_Sales_by_Product[drug].iloc[0], 2)))\n",
        "    print(\"\\n\")"
      ],
      "metadata": {
        "id": "1PueuyiIAcD6"
      },
      "execution_count": 43,
      "outputs": []
    },
    {
      "cell_type": "code",
      "source": [
        "# Top 3 Drugs by Sale in January 2014\n",
        "top_3_drugs_by_month(1, 2014)\n",
        "\n",
        "# Top 3 Drugs by Sale in January 2015\n",
        "top_3_drugs_by_month(1, 2015)\n",
        "\n",
        "# Top 3 Drugs by Sale in July 2016\n",
        "top_3_drugs_by_month(7, 2016)\n",
        "\n",
        "# Top 3 Drugs by Sale in September 2017\n",
        "top_3_drugs_by_month(9, 2017)"
      ],
      "metadata": {
        "colab": {
          "base_uri": "https://localhost:8080/"
        },
        "id": "VME9cFUeEGiv",
        "outputId": "3a08b8dc-e066-47a1-9cd3-8d1d4c7b70e8"
      },
      "execution_count": 52,
      "outputs": [
        {
          "output_type": "stream",
          "name": "stdout",
          "text": [
            "Top 3 Drugs by Sale in January 2014\n",
            " - Product: N02BE, Volume sold: 878.03\n",
            " - Product: N05B, Volume sold: 354.0\n",
            " - Product: N02BA, Volume sold: 152.1\n",
            "\n",
            "\n",
            "Top 3 Drugs by Sale in January 2015\n",
            " - Product: N02BE, Volume sold: 1044.24\n",
            " - Product: N05B, Volume sold: 463.0\n",
            " - Product: R03, Volume sold: 177.25\n",
            "\n",
            "\n",
            "Top 3 Drugs by Sale in July 2016\n",
            " - Product: N02BE, Volume sold: 652.36\n",
            " - Product: N05B, Volume sold: 240.0\n",
            " - Product: M01AB, Volume sold: 203.97\n",
            "\n",
            "\n",
            "Top 3 Drugs by Sale in September 2017\n",
            " - Product: N02BE, Volume sold: 863.75\n",
            " - Product: N05B, Volume sold: 223.0\n",
            " - Product: R03, Volume sold: 139.0\n",
            "\n",
            "\n"
          ]
        }
      ]
    },
    {
      "cell_type": "markdown",
      "source": [
        "## Top 1 Drug sold on Mondays in years"
      ],
      "metadata": {
        "id": "oxMhSdmBFS-e"
      }
    },
    {
      "cell_type": "code",
      "source": [
        "df_sales_daily = pd.read_csv('/content/drive/My Drive/Colab Notebooks/Projects/Pharma Sales/salesdaily.csv')"
      ],
      "metadata": {
        "id": "dsEa8UjaEIOc"
      },
      "execution_count": 55,
      "outputs": []
    },
    {
      "cell_type": "code",
      "source": [
        "df_sales_daily.head()"
      ],
      "metadata": {
        "colab": {
          "base_uri": "https://localhost:8080/",
          "height": 287
        },
        "id": "UD3UeKb1Hk0U",
        "outputId": "70623d51-42f4-4932-b76b-5a72cd72ab60"
      },
      "execution_count": 56,
      "outputs": [
        {
          "output_type": "execute_result",
          "data": {
            "text/plain": [
              "      datum  M01AB  M01AE  N02BA  N02BE  N05B  N05C   R03  R06  Year  Month  \\\n",
              "0  1/2/2014    0.0   3.67    3.4  32.40   7.0   0.0   0.0  2.0  2014      1   \n",
              "1  1/3/2014    8.0   4.00    4.4  50.60  16.0   0.0  20.0  4.0  2014      1   \n",
              "2  1/4/2014    2.0   1.00    6.5  61.85  10.0   0.0   9.0  1.0  2014      1   \n",
              "3  1/5/2014    4.0   3.00    7.0  41.10   8.0   0.0   3.0  0.0  2014      1   \n",
              "4  1/6/2014    5.0   1.00    4.5  21.70  16.0   2.0   6.0  2.0  2014      1   \n",
              "\n",
              "   Hour Weekday Name  \n",
              "0   248     Thursday  \n",
              "1   276       Friday  \n",
              "2   276     Saturday  \n",
              "3   276       Sunday  \n",
              "4   276       Monday  "
            ],
            "text/html": [
              "\n",
              "  <div id=\"df-898554e2-aba4-4459-a099-e2f5ab21ee7e\">\n",
              "    <div class=\"colab-df-container\">\n",
              "      <div>\n",
              "<style scoped>\n",
              "    .dataframe tbody tr th:only-of-type {\n",
              "        vertical-align: middle;\n",
              "    }\n",
              "\n",
              "    .dataframe tbody tr th {\n",
              "        vertical-align: top;\n",
              "    }\n",
              "\n",
              "    .dataframe thead th {\n",
              "        text-align: right;\n",
              "    }\n",
              "</style>\n",
              "<table border=\"1\" class=\"dataframe\">\n",
              "  <thead>\n",
              "    <tr style=\"text-align: right;\">\n",
              "      <th></th>\n",
              "      <th>datum</th>\n",
              "      <th>M01AB</th>\n",
              "      <th>M01AE</th>\n",
              "      <th>N02BA</th>\n",
              "      <th>N02BE</th>\n",
              "      <th>N05B</th>\n",
              "      <th>N05C</th>\n",
              "      <th>R03</th>\n",
              "      <th>R06</th>\n",
              "      <th>Year</th>\n",
              "      <th>Month</th>\n",
              "      <th>Hour</th>\n",
              "      <th>Weekday Name</th>\n",
              "    </tr>\n",
              "  </thead>\n",
              "  <tbody>\n",
              "    <tr>\n",
              "      <th>0</th>\n",
              "      <td>1/2/2014</td>\n",
              "      <td>0.0</td>\n",
              "      <td>3.67</td>\n",
              "      <td>3.4</td>\n",
              "      <td>32.40</td>\n",
              "      <td>7.0</td>\n",
              "      <td>0.0</td>\n",
              "      <td>0.0</td>\n",
              "      <td>2.0</td>\n",
              "      <td>2014</td>\n",
              "      <td>1</td>\n",
              "      <td>248</td>\n",
              "      <td>Thursday</td>\n",
              "    </tr>\n",
              "    <tr>\n",
              "      <th>1</th>\n",
              "      <td>1/3/2014</td>\n",
              "      <td>8.0</td>\n",
              "      <td>4.00</td>\n",
              "      <td>4.4</td>\n",
              "      <td>50.60</td>\n",
              "      <td>16.0</td>\n",
              "      <td>0.0</td>\n",
              "      <td>20.0</td>\n",
              "      <td>4.0</td>\n",
              "      <td>2014</td>\n",
              "      <td>1</td>\n",
              "      <td>276</td>\n",
              "      <td>Friday</td>\n",
              "    </tr>\n",
              "    <tr>\n",
              "      <th>2</th>\n",
              "      <td>1/4/2014</td>\n",
              "      <td>2.0</td>\n",
              "      <td>1.00</td>\n",
              "      <td>6.5</td>\n",
              "      <td>61.85</td>\n",
              "      <td>10.0</td>\n",
              "      <td>0.0</td>\n",
              "      <td>9.0</td>\n",
              "      <td>1.0</td>\n",
              "      <td>2014</td>\n",
              "      <td>1</td>\n",
              "      <td>276</td>\n",
              "      <td>Saturday</td>\n",
              "    </tr>\n",
              "    <tr>\n",
              "      <th>3</th>\n",
              "      <td>1/5/2014</td>\n",
              "      <td>4.0</td>\n",
              "      <td>3.00</td>\n",
              "      <td>7.0</td>\n",
              "      <td>41.10</td>\n",
              "      <td>8.0</td>\n",
              "      <td>0.0</td>\n",
              "      <td>3.0</td>\n",
              "      <td>0.0</td>\n",
              "      <td>2014</td>\n",
              "      <td>1</td>\n",
              "      <td>276</td>\n",
              "      <td>Sunday</td>\n",
              "    </tr>\n",
              "    <tr>\n",
              "      <th>4</th>\n",
              "      <td>1/6/2014</td>\n",
              "      <td>5.0</td>\n",
              "      <td>1.00</td>\n",
              "      <td>4.5</td>\n",
              "      <td>21.70</td>\n",
              "      <td>16.0</td>\n",
              "      <td>2.0</td>\n",
              "      <td>6.0</td>\n",
              "      <td>2.0</td>\n",
              "      <td>2014</td>\n",
              "      <td>1</td>\n",
              "      <td>276</td>\n",
              "      <td>Monday</td>\n",
              "    </tr>\n",
              "  </tbody>\n",
              "</table>\n",
              "</div>\n",
              "      <button class=\"colab-df-convert\" onclick=\"convertToInteractive('df-898554e2-aba4-4459-a099-e2f5ab21ee7e')\"\n",
              "              title=\"Convert this dataframe to an interactive table.\"\n",
              "              style=\"display:none;\">\n",
              "        \n",
              "  <svg xmlns=\"http://www.w3.org/2000/svg\" height=\"24px\"viewBox=\"0 0 24 24\"\n",
              "       width=\"24px\">\n",
              "    <path d=\"M0 0h24v24H0V0z\" fill=\"none\"/>\n",
              "    <path d=\"M18.56 5.44l.94 2.06.94-2.06 2.06-.94-2.06-.94-.94-2.06-.94 2.06-2.06.94zm-11 1L8.5 8.5l.94-2.06 2.06-.94-2.06-.94L8.5 2.5l-.94 2.06-2.06.94zm10 10l.94 2.06.94-2.06 2.06-.94-2.06-.94-.94-2.06-.94 2.06-2.06.94z\"/><path d=\"M17.41 7.96l-1.37-1.37c-.4-.4-.92-.59-1.43-.59-.52 0-1.04.2-1.43.59L10.3 9.45l-7.72 7.72c-.78.78-.78 2.05 0 2.83L4 21.41c.39.39.9.59 1.41.59.51 0 1.02-.2 1.41-.59l7.78-7.78 2.81-2.81c.8-.78.8-2.07 0-2.86zM5.41 20L4 18.59l7.72-7.72 1.47 1.35L5.41 20z\"/>\n",
              "  </svg>\n",
              "      </button>\n",
              "      \n",
              "  <style>\n",
              "    .colab-df-container {\n",
              "      display:flex;\n",
              "      flex-wrap:wrap;\n",
              "      gap: 12px;\n",
              "    }\n",
              "\n",
              "    .colab-df-convert {\n",
              "      background-color: #E8F0FE;\n",
              "      border: none;\n",
              "      border-radius: 50%;\n",
              "      cursor: pointer;\n",
              "      display: none;\n",
              "      fill: #1967D2;\n",
              "      height: 32px;\n",
              "      padding: 0 0 0 0;\n",
              "      width: 32px;\n",
              "    }\n",
              "\n",
              "    .colab-df-convert:hover {\n",
              "      background-color: #E2EBFA;\n",
              "      box-shadow: 0px 1px 2px rgba(60, 64, 67, 0.3), 0px 1px 3px 1px rgba(60, 64, 67, 0.15);\n",
              "      fill: #174EA6;\n",
              "    }\n",
              "\n",
              "    [theme=dark] .colab-df-convert {\n",
              "      background-color: #3B4455;\n",
              "      fill: #D2E3FC;\n",
              "    }\n",
              "\n",
              "    [theme=dark] .colab-df-convert:hover {\n",
              "      background-color: #434B5C;\n",
              "      box-shadow: 0px 1px 3px 1px rgba(0, 0, 0, 0.15);\n",
              "      filter: drop-shadow(0px 1px 2px rgba(0, 0, 0, 0.3));\n",
              "      fill: #FFFFFF;\n",
              "    }\n",
              "  </style>\n",
              "\n",
              "      <script>\n",
              "        const buttonEl =\n",
              "          document.querySelector('#df-898554e2-aba4-4459-a099-e2f5ab21ee7e button.colab-df-convert');\n",
              "        buttonEl.style.display =\n",
              "          google.colab.kernel.accessAllowed ? 'block' : 'none';\n",
              "\n",
              "        async function convertToInteractive(key) {\n",
              "          const element = document.querySelector('#df-898554e2-aba4-4459-a099-e2f5ab21ee7e');\n",
              "          const dataTable =\n",
              "            await google.colab.kernel.invokeFunction('convertToInteractive',\n",
              "                                                     [key], {});\n",
              "          if (!dataTable) return;\n",
              "\n",
              "          const docLinkHtml = 'Like what you see? Visit the ' +\n",
              "            '<a target=\"_blank\" href=https://colab.research.google.com/notebooks/data_table.ipynb>data table notebook</a>'\n",
              "            + ' to learn more about interactive tables.';\n",
              "          element.innerHTML = '';\n",
              "          dataTable['output_type'] = 'display_data';\n",
              "          await google.colab.output.renderOutput(dataTable, element);\n",
              "          const docLink = document.createElement('div');\n",
              "          docLink.innerHTML = docLinkHtml;\n",
              "          element.appendChild(docLink);\n",
              "        }\n",
              "      </script>\n",
              "    </div>\n",
              "  </div>\n",
              "  "
            ]
          },
          "metadata": {},
          "execution_count": 56
        }
      ]
    },
    {
      "cell_type": "markdown",
      "source": [
        "### 2014"
      ],
      "metadata": {
        "id": "4XqkHqYDdbDj"
      }
    },
    {
      "cell_type": "code",
      "source": [
        "df_sales_daily_2014 = df_sales_daily.loc[df_sales_daily['datum'].str.contains('2014', flags=re.I, regex=True) & (df_sales_daily['Weekday Name'] == 'Monday')]"
      ],
      "metadata": {
        "id": "7EiZV9KsdeY7"
      },
      "execution_count": 64,
      "outputs": []
    },
    {
      "cell_type": "code",
      "source": [
        "df_sales_daily_2014 = df_sales_daily_2014.groupby(['Weekday Name'], as_index=False).sum()"
      ],
      "metadata": {
        "id": "v4dd02G3deJk"
      },
      "execution_count": 65,
      "outputs": []
    },
    {
      "cell_type": "code",
      "source": [
        "df_sales_daily_2014 = df_sales_daily_2014[['M01AB', 'M01AE', 'N02BA', 'N02BE', 'N05B', 'N05C', 'R03', 'R06']]\n",
        "result_2014 = df_sales_daily_2014.sort_values(by=0, ascending=False, axis=1)\n",
        "for field in result_2014.columns.values[0:1]:\n",
        "    print('The most frequently sold Drug on Mondays in 2014 is ' + str(field) + ' with the Volume of ' + str(round(result_2014[field].iloc[0], 2)))"
      ],
      "metadata": {
        "colab": {
          "base_uri": "https://localhost:8080/"
        },
        "id": "xkfkfc25deGj",
        "outputId": "cec6b6e1-b93f-463a-af93-ff38f0555ca8"
      },
      "execution_count": 66,
      "outputs": [
        {
          "output_type": "stream",
          "name": "stdout",
          "text": [
            "The most frequently sold Drug on Mondays in 2014 is N02BE with the Volume of 1337.46\n"
          ]
        }
      ]
    },
    {
      "cell_type": "markdown",
      "source": [
        "### 2015"
      ],
      "metadata": {
        "id": "afxWYMXxd2vn"
      }
    },
    {
      "cell_type": "code",
      "source": [
        "df_sales_daily_2015 = df_sales_daily.loc[df_sales_daily['datum'].str.contains('2015', flags=re.I, regex=True) & (df_sales_daily['Weekday Name'] == 'Monday')]"
      ],
      "metadata": {
        "id": "HSBkAdjcd3Ap"
      },
      "execution_count": 71,
      "outputs": []
    },
    {
      "cell_type": "code",
      "source": [
        "df_sales_daily_2015 = df_sales_daily_2015.groupby(['Weekday Name'], as_index=False).sum()"
      ],
      "metadata": {
        "id": "oAJbELw1d3cc"
      },
      "execution_count": 72,
      "outputs": []
    },
    {
      "cell_type": "code",
      "source": [
        "df_sales_daily_2015 = df_sales_daily_2015[['M01AB', 'M01AE', 'N02BA', 'N02BE', 'N05B', 'N05C', 'R03', 'R06']]\n",
        "result_2015 = df_sales_daily_2015.sort_values(by=0, ascending=False, axis=1)\n",
        "for field in result_2015.columns.values[0:1]:\n",
        "    print('The most frequently sold Drug on Mondays in 2015 is ' + str(field) + ' with the Volume of ' + str(round(result_2015[field].iloc[0], 2)))"
      ],
      "metadata": {
        "colab": {
          "base_uri": "https://localhost:8080/"
        },
        "id": "J_DbWGOdd3VD",
        "outputId": "aae8be9f-dabb-40d3-b070-2d027fc5d66a"
      },
      "execution_count": 73,
      "outputs": [
        {
          "output_type": "stream",
          "name": "stdout",
          "text": [
            "The most frequently sold Drug on Mondays in 2015 is N02BE with the Volume of 1915.91\n"
          ]
        }
      ]
    },
    {
      "cell_type": "markdown",
      "source": [
        "### 2016"
      ],
      "metadata": {
        "id": "xqI1jHCyeHMV"
      }
    },
    {
      "cell_type": "code",
      "source": [
        "df_sales_daily_2016 = df_sales_daily.loc[df_sales_daily['datum'].str.contains('2016', flags=re.I, regex=True) & (df_sales_daily['Weekday Name'] == 'Monday')]"
      ],
      "metadata": {
        "id": "5Ep94IrpeHfg"
      },
      "execution_count": 75,
      "outputs": []
    },
    {
      "cell_type": "code",
      "source": [
        "df_sales_daily_2016 = df_sales_daily_2016.groupby(['Weekday Name'], as_index=False).sum()"
      ],
      "metadata": {
        "id": "-n2Qd2rdeH54"
      },
      "execution_count": 76,
      "outputs": []
    },
    {
      "cell_type": "code",
      "source": [
        "df_sales_daily_2016 = df_sales_daily_2016[['M01AB', 'M01AE', 'N02BA', 'N02BE', 'N05B', 'N05C', 'R03', 'R06']]\n",
        "result_2016 = df_sales_daily_2016.sort_values(by=0, ascending=False, axis=1)\n",
        "for field in result_2016.columns.values[0:1]:\n",
        "    print('The most frequently sold Drug on Mondays in 2016 is ' + str(field) + ' with the Volume of ' + str(round(result_2016[field].iloc[0], 2)))"
      ],
      "metadata": {
        "colab": {
          "base_uri": "https://localhost:8080/"
        },
        "id": "Qxz6UEvveHxZ",
        "outputId": "937e05fb-2fb2-4016-b6a0-3972b0a16a97"
      },
      "execution_count": 77,
      "outputs": [
        {
          "output_type": "stream",
          "name": "stdout",
          "text": [
            "The most frequently sold Drug on Mondays in 2016 is N02BE with the Volume of 1724.8\n"
          ]
        }
      ]
    },
    {
      "cell_type": "markdown",
      "source": [
        "### 2017"
      ],
      "metadata": {
        "id": "LkwiTjXDc023"
      }
    },
    {
      "cell_type": "markdown",
      "source": [
        "#### Filter out all except Mondays in 2017"
      ],
      "metadata": {
        "id": "Lm_mP0G_G7tH"
      }
    },
    {
      "cell_type": "code",
      "source": [
        "df_sales_daily_2017 = df_sales_daily.loc[df_sales_daily['datum'].str.contains('2017', flags=re.I, regex=True) & (df_sales_daily['Weekday Name'] == 'Monday')]"
      ],
      "metadata": {
        "id": "bWJc00DEGykE"
      },
      "execution_count": 67,
      "outputs": []
    },
    {
      "cell_type": "markdown",
      "source": [
        "#### Group by Weekday and Sum up"
      ],
      "metadata": {
        "id": "nEX8-3TDHrwA"
      }
    },
    {
      "cell_type": "code",
      "source": [
        "df_sales_daily_2017 = df_sales_daily_2017.groupby(['Weekday Name'], as_index=False).sum()"
      ],
      "metadata": {
        "id": "SZ4CcPV-Hd3n"
      },
      "execution_count": 68,
      "outputs": []
    },
    {
      "cell_type": "markdown",
      "source": [
        "#### Filter by the chosen Drugs and Sort by descending order"
      ],
      "metadata": {
        "id": "Bev0ZfLoH1vu"
      }
    },
    {
      "cell_type": "code",
      "source": [
        "df_sales_daily_2017 = df_sales_daily_2017[['M01AB', 'M01AE', 'N02BA', 'N02BE', 'N05B', 'N05C', 'R03', 'R06']]\n",
        "result_2017 = df_sales_daily_2017.sort_values(by=0, ascending=False, axis=1)"
      ],
      "metadata": {
        "id": "dLbx4eJbHxHe"
      },
      "execution_count": 69,
      "outputs": []
    },
    {
      "cell_type": "code",
      "source": [
        "for field in result_2017.columns.values[0:1]:\n",
        "    print('The most frequently sold Drug on Mondays in 2017 is ' + str(field) + ' with the Volume of ' + str(round(result_2017[field].iloc[0], 2)))"
      ],
      "metadata": {
        "colab": {
          "base_uri": "https://localhost:8080/"
        },
        "id": "UvQV3pnGH0-e",
        "outputId": "0b3fa24e-d325-42f8-fe68-3298e36ff324"
      },
      "execution_count": 70,
      "outputs": [
        {
          "output_type": "stream",
          "name": "stdout",
          "text": [
            "The most frequently sold Drug on Mondays in 2017 is N02BE with the Volume of 1160.56\n"
          ]
        }
      ]
    },
    {
      "cell_type": "markdown",
      "source": [
        "## Sales Prediction with Machine Learning"
      ],
      "metadata": {
        "id": "3hZIRo0seR0X"
      }
    },
    {
      "cell_type": "code",
      "source": [
        ""
      ],
      "metadata": {
        "id": "ohFefAtmIFJ_"
      },
      "execution_count": 70,
      "outputs": []
    }
  ]
}