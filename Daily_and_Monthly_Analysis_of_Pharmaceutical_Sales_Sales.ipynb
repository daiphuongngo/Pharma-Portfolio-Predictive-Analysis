{
  "nbformat": 4,
  "nbformat_minor": 0,
  "metadata": {
    "colab": {
      "name": "Daily and Monthly Analysis of Pharmaceutical Sales Sales.ipynb",
      "provenance": [],
      "collapsed_sections": []
    },
    "kernelspec": {
      "name": "python3",
      "display_name": "Python 3"
    },
    "language_info": {
      "name": "python"
    }
  },
  "cells": [
    {
      "cell_type": "markdown",
      "source": [
        "## Libraries"
      ],
      "metadata": {
        "id": "X3gTTl4g0cEn"
      }
    },
    {
      "cell_type": "code",
      "execution_count": 1,
      "metadata": {
        "id": "4jB5-EWYzxly"
      },
      "outputs": [],
      "source": [
        "import pandas as pd\n",
        "import numpy as np\n",
        "import matplotlib.pyplot as plt\n",
        "import re\n",
        "import calendar\n",
        "from datetime import datetime\n",
        "\n",
        "# Scikit-learn algorithms and functions\n",
        "from sklearn import linear_model\n",
        "from sklearn.cluster import KMeans\n",
        "from sklearn.decomposition import PCA\n",
        "from sklearn.model_selection import train_test_split\n",
        "from sklearn.preprocessing import StandardScaler\n",
        "from sklearn.preprocessing import PolynomialFeatures\n",
        "from sklearn.svm import SVR\n",
        "from sklearn.ensemble import VotingRegressor\n",
        "\n",
        "# Settings for Matplotlib graphs and charts\n",
        "from pylab import rcParams\n",
        "rcParams['figure.figsize'] = 12, 8\n",
        "\n",
        "# Display Matplotlib output inline\n",
        "%matplotlib inline\n",
        "\n",
        "# Additional configuration\n",
        "np.set_printoptions(precision=2)"
      ]
    },
    {
      "cell_type": "code",
      "source": [
        "from google.colab import drive\n",
        "drive.mount('/content/drive')"
      ],
      "metadata": {
        "colab": {
          "base_uri": "https://localhost:8080/"
        },
        "id": "mgVJxD2C0nE0",
        "outputId": "fae7abd3-360b-46b9-d802-a5162e376294"
      },
      "execution_count": 3,
      "outputs": [
        {
          "output_type": "stream",
          "name": "stdout",
          "text": [
            "Mounted at /content/drive\n"
          ]
        }
      ]
    },
    {
      "cell_type": "code",
      "source": [
        "df = pd.read_csv('/content/drive/My Drive/Colab Notebooks/Projects/Pharma Sales/salesdaily.csv') "
      ],
      "metadata": {
        "id": "1aswJyXV0s2W"
      },
      "execution_count": 4,
      "outputs": []
    },
    {
      "cell_type": "code",
      "source": [
        "df.head()"
      ],
      "metadata": {
        "colab": {
          "base_uri": "https://localhost:8080/",
          "height": 250
        },
        "id": "nj0n7PjN3O4e",
        "outputId": "80a25f0f-25b2-4024-a564-bd754ac6be61"
      },
      "execution_count": 5,
      "outputs": [
        {
          "output_type": "execute_result",
          "data": {
            "text/plain": [
              "      datum  M01AB  M01AE  N02BA  N02BE  N05B  N05C   R03  R06  Year  Month  \\\n",
              "0  1/2/2014    0.0   3.67    3.4  32.40   7.0   0.0   0.0  2.0  2014      1   \n",
              "1  1/3/2014    8.0   4.00    4.4  50.60  16.0   0.0  20.0  4.0  2014      1   \n",
              "2  1/4/2014    2.0   1.00    6.5  61.85  10.0   0.0   9.0  1.0  2014      1   \n",
              "3  1/5/2014    4.0   3.00    7.0  41.10   8.0   0.0   3.0  0.0  2014      1   \n",
              "4  1/6/2014    5.0   1.00    4.5  21.70  16.0   2.0   6.0  2.0  2014      1   \n",
              "\n",
              "   Hour Weekday Name  \n",
              "0   248     Thursday  \n",
              "1   276       Friday  \n",
              "2   276     Saturday  \n",
              "3   276       Sunday  \n",
              "4   276       Monday  "
            ],
            "text/html": [
              "\n",
              "  <div id=\"df-cd4aa5bd-5fc8-4cde-8d36-41f84b658070\">\n",
              "    <div class=\"colab-df-container\">\n",
              "      <div>\n",
              "<style scoped>\n",
              "    .dataframe tbody tr th:only-of-type {\n",
              "        vertical-align: middle;\n",
              "    }\n",
              "\n",
              "    .dataframe tbody tr th {\n",
              "        vertical-align: top;\n",
              "    }\n",
              "\n",
              "    .dataframe thead th {\n",
              "        text-align: right;\n",
              "    }\n",
              "</style>\n",
              "<table border=\"1\" class=\"dataframe\">\n",
              "  <thead>\n",
              "    <tr style=\"text-align: right;\">\n",
              "      <th></th>\n",
              "      <th>datum</th>\n",
              "      <th>M01AB</th>\n",
              "      <th>M01AE</th>\n",
              "      <th>N02BA</th>\n",
              "      <th>N02BE</th>\n",
              "      <th>N05B</th>\n",
              "      <th>N05C</th>\n",
              "      <th>R03</th>\n",
              "      <th>R06</th>\n",
              "      <th>Year</th>\n",
              "      <th>Month</th>\n",
              "      <th>Hour</th>\n",
              "      <th>Weekday Name</th>\n",
              "    </tr>\n",
              "  </thead>\n",
              "  <tbody>\n",
              "    <tr>\n",
              "      <th>0</th>\n",
              "      <td>1/2/2014</td>\n",
              "      <td>0.0</td>\n",
              "      <td>3.67</td>\n",
              "      <td>3.4</td>\n",
              "      <td>32.40</td>\n",
              "      <td>7.0</td>\n",
              "      <td>0.0</td>\n",
              "      <td>0.0</td>\n",
              "      <td>2.0</td>\n",
              "      <td>2014</td>\n",
              "      <td>1</td>\n",
              "      <td>248</td>\n",
              "      <td>Thursday</td>\n",
              "    </tr>\n",
              "    <tr>\n",
              "      <th>1</th>\n",
              "      <td>1/3/2014</td>\n",
              "      <td>8.0</td>\n",
              "      <td>4.00</td>\n",
              "      <td>4.4</td>\n",
              "      <td>50.60</td>\n",
              "      <td>16.0</td>\n",
              "      <td>0.0</td>\n",
              "      <td>20.0</td>\n",
              "      <td>4.0</td>\n",
              "      <td>2014</td>\n",
              "      <td>1</td>\n",
              "      <td>276</td>\n",
              "      <td>Friday</td>\n",
              "    </tr>\n",
              "    <tr>\n",
              "      <th>2</th>\n",
              "      <td>1/4/2014</td>\n",
              "      <td>2.0</td>\n",
              "      <td>1.00</td>\n",
              "      <td>6.5</td>\n",
              "      <td>61.85</td>\n",
              "      <td>10.0</td>\n",
              "      <td>0.0</td>\n",
              "      <td>9.0</td>\n",
              "      <td>1.0</td>\n",
              "      <td>2014</td>\n",
              "      <td>1</td>\n",
              "      <td>276</td>\n",
              "      <td>Saturday</td>\n",
              "    </tr>\n",
              "    <tr>\n",
              "      <th>3</th>\n",
              "      <td>1/5/2014</td>\n",
              "      <td>4.0</td>\n",
              "      <td>3.00</td>\n",
              "      <td>7.0</td>\n",
              "      <td>41.10</td>\n",
              "      <td>8.0</td>\n",
              "      <td>0.0</td>\n",
              "      <td>3.0</td>\n",
              "      <td>0.0</td>\n",
              "      <td>2014</td>\n",
              "      <td>1</td>\n",
              "      <td>276</td>\n",
              "      <td>Sunday</td>\n",
              "    </tr>\n",
              "    <tr>\n",
              "      <th>4</th>\n",
              "      <td>1/6/2014</td>\n",
              "      <td>5.0</td>\n",
              "      <td>1.00</td>\n",
              "      <td>4.5</td>\n",
              "      <td>21.70</td>\n",
              "      <td>16.0</td>\n",
              "      <td>2.0</td>\n",
              "      <td>6.0</td>\n",
              "      <td>2.0</td>\n",
              "      <td>2014</td>\n",
              "      <td>1</td>\n",
              "      <td>276</td>\n",
              "      <td>Monday</td>\n",
              "    </tr>\n",
              "  </tbody>\n",
              "</table>\n",
              "</div>\n",
              "      <button class=\"colab-df-convert\" onclick=\"convertToInteractive('df-cd4aa5bd-5fc8-4cde-8d36-41f84b658070')\"\n",
              "              title=\"Convert this dataframe to an interactive table.\"\n",
              "              style=\"display:none;\">\n",
              "        \n",
              "  <svg xmlns=\"http://www.w3.org/2000/svg\" height=\"24px\"viewBox=\"0 0 24 24\"\n",
              "       width=\"24px\">\n",
              "    <path d=\"M0 0h24v24H0V0z\" fill=\"none\"/>\n",
              "    <path d=\"M18.56 5.44l.94 2.06.94-2.06 2.06-.94-2.06-.94-.94-2.06-.94 2.06-2.06.94zm-11 1L8.5 8.5l.94-2.06 2.06-.94-2.06-.94L8.5 2.5l-.94 2.06-2.06.94zm10 10l.94 2.06.94-2.06 2.06-.94-2.06-.94-.94-2.06-.94 2.06-2.06.94z\"/><path d=\"M17.41 7.96l-1.37-1.37c-.4-.4-.92-.59-1.43-.59-.52 0-1.04.2-1.43.59L10.3 9.45l-7.72 7.72c-.78.78-.78 2.05 0 2.83L4 21.41c.39.39.9.59 1.41.59.51 0 1.02-.2 1.41-.59l7.78-7.78 2.81-2.81c.8-.78.8-2.07 0-2.86zM5.41 20L4 18.59l7.72-7.72 1.47 1.35L5.41 20z\"/>\n",
              "  </svg>\n",
              "      </button>\n",
              "      \n",
              "  <style>\n",
              "    .colab-df-container {\n",
              "      display:flex;\n",
              "      flex-wrap:wrap;\n",
              "      gap: 12px;\n",
              "    }\n",
              "\n",
              "    .colab-df-convert {\n",
              "      background-color: #E8F0FE;\n",
              "      border: none;\n",
              "      border-radius: 50%;\n",
              "      cursor: pointer;\n",
              "      display: none;\n",
              "      fill: #1967D2;\n",
              "      height: 32px;\n",
              "      padding: 0 0 0 0;\n",
              "      width: 32px;\n",
              "    }\n",
              "\n",
              "    .colab-df-convert:hover {\n",
              "      background-color: #E2EBFA;\n",
              "      box-shadow: 0px 1px 2px rgba(60, 64, 67, 0.3), 0px 1px 3px 1px rgba(60, 64, 67, 0.15);\n",
              "      fill: #174EA6;\n",
              "    }\n",
              "\n",
              "    [theme=dark] .colab-df-convert {\n",
              "      background-color: #3B4455;\n",
              "      fill: #D2E3FC;\n",
              "    }\n",
              "\n",
              "    [theme=dark] .colab-df-convert:hover {\n",
              "      background-color: #434B5C;\n",
              "      box-shadow: 0px 1px 3px 1px rgba(0, 0, 0, 0.15);\n",
              "      filter: drop-shadow(0px 1px 2px rgba(0, 0, 0, 0.3));\n",
              "      fill: #FFFFFF;\n",
              "    }\n",
              "  </style>\n",
              "\n",
              "      <script>\n",
              "        const buttonEl =\n",
              "          document.querySelector('#df-cd4aa5bd-5fc8-4cde-8d36-41f84b658070 button.colab-df-convert');\n",
              "        buttonEl.style.display =\n",
              "          google.colab.kernel.accessAllowed ? 'block' : 'none';\n",
              "\n",
              "        async function convertToInteractive(key) {\n",
              "          const element = document.querySelector('#df-cd4aa5bd-5fc8-4cde-8d36-41f84b658070');\n",
              "          const dataTable =\n",
              "            await google.colab.kernel.invokeFunction('convertToInteractive',\n",
              "                                                     [key], {});\n",
              "          if (!dataTable) return;\n",
              "\n",
              "          const docLinkHtml = 'Like what you see? Visit the ' +\n",
              "            '<a target=\"_blank\" href=https://colab.research.google.com/notebooks/data_table.ipynb>data table notebook</a>'\n",
              "            + ' to learn more about interactive tables.';\n",
              "          element.innerHTML = '';\n",
              "          dataTable['output_type'] = 'display_data';\n",
              "          await google.colab.output.renderOutput(dataTable, element);\n",
              "          const docLink = document.createElement('div');\n",
              "          docLink.innerHTML = docLinkHtml;\n",
              "          element.appendChild(docLink);\n",
              "        }\n",
              "      </script>\n",
              "    </div>\n",
              "  </div>\n",
              "  "
            ]
          },
          "metadata": {},
          "execution_count": 5
        }
      ]
    },
    {
      "cell_type": "markdown",
      "source": [
        "## On which day of the week is the second drug (M01AE) most often sold?"
      ],
      "metadata": {
        "id": "OmvzSzdt4gFT"
      }
    },
    {
      "cell_type": "code",
      "source": [
        "df = df[['M01AE', 'Weekday Name']]\n",
        "result = df.groupby(['Weekday Name'], as_index=False).sum().sort_values('M01AE', ascending=False)"
      ],
      "metadata": {
        "id": "UFjWVpex3Qgs"
      },
      "execution_count": 6,
      "outputs": []
    },
    {
      "cell_type": "code",
      "source": [
        "result"
      ],
      "metadata": {
        "colab": {
          "base_uri": "https://localhost:8080/",
          "height": 269
        },
        "id": "NtmBntkv3qb9",
        "outputId": "64aec23f-e3f0-4eb8-9152-646a7f905b59"
      },
      "execution_count": 10,
      "outputs": [
        {
          "output_type": "execute_result",
          "data": {
            "text/plain": [
              "  Weekday Name        M01AE\n",
              "3       Sunday  1384.939667\n",
              "2     Saturday  1311.554917\n",
              "1       Monday  1118.503000\n",
              "0       Friday  1117.781083\n",
              "6    Wednesday  1110.250000\n",
              "4     Thursday  1092.282396\n",
              "5      Tuesday  1069.307583"
            ],
            "text/html": [
              "\n",
              "  <div id=\"df-cec7dd12-6aac-4098-afa7-242147ca7c47\">\n",
              "    <div class=\"colab-df-container\">\n",
              "      <div>\n",
              "<style scoped>\n",
              "    .dataframe tbody tr th:only-of-type {\n",
              "        vertical-align: middle;\n",
              "    }\n",
              "\n",
              "    .dataframe tbody tr th {\n",
              "        vertical-align: top;\n",
              "    }\n",
              "\n",
              "    .dataframe thead th {\n",
              "        text-align: right;\n",
              "    }\n",
              "</style>\n",
              "<table border=\"1\" class=\"dataframe\">\n",
              "  <thead>\n",
              "    <tr style=\"text-align: right;\">\n",
              "      <th></th>\n",
              "      <th>Weekday Name</th>\n",
              "      <th>M01AE</th>\n",
              "    </tr>\n",
              "  </thead>\n",
              "  <tbody>\n",
              "    <tr>\n",
              "      <th>3</th>\n",
              "      <td>Sunday</td>\n",
              "      <td>1384.939667</td>\n",
              "    </tr>\n",
              "    <tr>\n",
              "      <th>2</th>\n",
              "      <td>Saturday</td>\n",
              "      <td>1311.554917</td>\n",
              "    </tr>\n",
              "    <tr>\n",
              "      <th>1</th>\n",
              "      <td>Monday</td>\n",
              "      <td>1118.503000</td>\n",
              "    </tr>\n",
              "    <tr>\n",
              "      <th>0</th>\n",
              "      <td>Friday</td>\n",
              "      <td>1117.781083</td>\n",
              "    </tr>\n",
              "    <tr>\n",
              "      <th>6</th>\n",
              "      <td>Wednesday</td>\n",
              "      <td>1110.250000</td>\n",
              "    </tr>\n",
              "    <tr>\n",
              "      <th>4</th>\n",
              "      <td>Thursday</td>\n",
              "      <td>1092.282396</td>\n",
              "    </tr>\n",
              "    <tr>\n",
              "      <th>5</th>\n",
              "      <td>Tuesday</td>\n",
              "      <td>1069.307583</td>\n",
              "    </tr>\n",
              "  </tbody>\n",
              "</table>\n",
              "</div>\n",
              "      <button class=\"colab-df-convert\" onclick=\"convertToInteractive('df-cec7dd12-6aac-4098-afa7-242147ca7c47')\"\n",
              "              title=\"Convert this dataframe to an interactive table.\"\n",
              "              style=\"display:none;\">\n",
              "        \n",
              "  <svg xmlns=\"http://www.w3.org/2000/svg\" height=\"24px\"viewBox=\"0 0 24 24\"\n",
              "       width=\"24px\">\n",
              "    <path d=\"M0 0h24v24H0V0z\" fill=\"none\"/>\n",
              "    <path d=\"M18.56 5.44l.94 2.06.94-2.06 2.06-.94-2.06-.94-.94-2.06-.94 2.06-2.06.94zm-11 1L8.5 8.5l.94-2.06 2.06-.94-2.06-.94L8.5 2.5l-.94 2.06-2.06.94zm10 10l.94 2.06.94-2.06 2.06-.94-2.06-.94-.94-2.06-.94 2.06-2.06.94z\"/><path d=\"M17.41 7.96l-1.37-1.37c-.4-.4-.92-.59-1.43-.59-.52 0-1.04.2-1.43.59L10.3 9.45l-7.72 7.72c-.78.78-.78 2.05 0 2.83L4 21.41c.39.39.9.59 1.41.59.51 0 1.02-.2 1.41-.59l7.78-7.78 2.81-2.81c.8-.78.8-2.07 0-2.86zM5.41 20L4 18.59l7.72-7.72 1.47 1.35L5.41 20z\"/>\n",
              "  </svg>\n",
              "      </button>\n",
              "      \n",
              "  <style>\n",
              "    .colab-df-container {\n",
              "      display:flex;\n",
              "      flex-wrap:wrap;\n",
              "      gap: 12px;\n",
              "    }\n",
              "\n",
              "    .colab-df-convert {\n",
              "      background-color: #E8F0FE;\n",
              "      border: none;\n",
              "      border-radius: 50%;\n",
              "      cursor: pointer;\n",
              "      display: none;\n",
              "      fill: #1967D2;\n",
              "      height: 32px;\n",
              "      padding: 0 0 0 0;\n",
              "      width: 32px;\n",
              "    }\n",
              "\n",
              "    .colab-df-convert:hover {\n",
              "      background-color: #E2EBFA;\n",
              "      box-shadow: 0px 1px 2px rgba(60, 64, 67, 0.3), 0px 1px 3px 1px rgba(60, 64, 67, 0.15);\n",
              "      fill: #174EA6;\n",
              "    }\n",
              "\n",
              "    [theme=dark] .colab-df-convert {\n",
              "      background-color: #3B4455;\n",
              "      fill: #D2E3FC;\n",
              "    }\n",
              "\n",
              "    [theme=dark] .colab-df-convert:hover {\n",
              "      background-color: #434B5C;\n",
              "      box-shadow: 0px 1px 3px 1px rgba(0, 0, 0, 0.15);\n",
              "      filter: drop-shadow(0px 1px 2px rgba(0, 0, 0, 0.3));\n",
              "      fill: #FFFFFF;\n",
              "    }\n",
              "  </style>\n",
              "\n",
              "      <script>\n",
              "        const buttonEl =\n",
              "          document.querySelector('#df-cec7dd12-6aac-4098-afa7-242147ca7c47 button.colab-df-convert');\n",
              "        buttonEl.style.display =\n",
              "          google.colab.kernel.accessAllowed ? 'block' : 'none';\n",
              "\n",
              "        async function convertToInteractive(key) {\n",
              "          const element = document.querySelector('#df-cec7dd12-6aac-4098-afa7-242147ca7c47');\n",
              "          const dataTable =\n",
              "            await google.colab.kernel.invokeFunction('convertToInteractive',\n",
              "                                                     [key], {});\n",
              "          if (!dataTable) return;\n",
              "\n",
              "          const docLinkHtml = 'Like what you see? Visit the ' +\n",
              "            '<a target=\"_blank\" href=https://colab.research.google.com/notebooks/data_table.ipynb>data table notebook</a>'\n",
              "            + ' to learn more about interactive tables.';\n",
              "          element.innerHTML = '';\n",
              "          dataTable['output_type'] = 'display_data';\n",
              "          await google.colab.output.renderOutput(dataTable, element);\n",
              "          const docLink = document.createElement('div');\n",
              "          docLink.innerHTML = docLinkHtml;\n",
              "          element.appendChild(docLink);\n",
              "        }\n",
              "      </script>\n",
              "    </div>\n",
              "  </div>\n",
              "  "
            ]
          },
          "metadata": {},
          "execution_count": 10
        }
      ]
    },
    {
      "cell_type": "code",
      "source": [
        "resultDay = result.iloc[0,0]\n",
        "resultValue = round(result.iloc[0,1], 2)"
      ],
      "metadata": {
        "id": "8VQTdCHi3SEX"
      },
      "execution_count": 7,
      "outputs": []
    },
    {
      "cell_type": "code",
      "source": [
        "print('The second drug, M01AE, was most often sold on ' + str(resultDay))\n",
        "print('with the volume of ' + str(resultValue))"
      ],
      "metadata": {
        "colab": {
          "base_uri": "https://localhost:8080/"
        },
        "id": "XwXySOSs3Xvf",
        "outputId": "69b2be69-c6d2-4d2c-84b9-47ba424a5fb1"
      },
      "execution_count": 8,
      "outputs": [
        {
          "output_type": "stream",
          "name": "stdout",
          "text": [
            "The second drug, M01AE, was most often sold on Sunday\n",
            "with the volume of 1384.94\n"
          ]
        }
      ]
    },
    {
      "cell_type": "markdown",
      "source": [
        "## Which drug has sold most often on Mondays in 2017?"
      ],
      "metadata": {
        "id": "A9lu98yN5cH6"
      }
    },
    {
      "cell_type": "code",
      "source": [
        "df_daily = pd.read_csv('/content/drive/My Drive/Colab Notebooks/Projects/Pharma Sales/salesdaily.csv') "
      ],
      "metadata": {
        "id": "a5e5nXhV5fih"
      },
      "execution_count": 20,
      "outputs": []
    },
    {
      "cell_type": "code",
      "source": [
        "df_daily = df_daily.loc[df_daily['datum'].str.contains('2017', flags=re.I, regex=True) & (df_daily['Weekday Name'] == 'Monday')]"
      ],
      "metadata": {
        "id": "perNIZn45feP"
      },
      "execution_count": 21,
      "outputs": []
    },
    {
      "cell_type": "code",
      "source": [
        "df_daily = df_daily.groupby(['Weekday Name'], as_index=False).sum()"
      ],
      "metadata": {
        "id": "8-v2y0IO5fYQ"
      },
      "execution_count": 22,
      "outputs": []
    },
    {
      "cell_type": "code",
      "source": [
        "df_daily = df_daily[['M01AB', 'M01AE', 'N02BA', 'N02BE', 'N05B', 'N05C', 'R03', 'R06']]\n",
        "result = df_daily.sort_values(by=0, ascending=False, axis=1)"
      ],
      "metadata": {
        "id": "Qvw0wRNe50Ve"
      },
      "execution_count": 23,
      "outputs": []
    },
    {
      "cell_type": "code",
      "source": [
        "for field in result.columns.values[0:1]:\n",
        "    print('The drug most often sold on Mondays in 2017 is ' + str(field))\n",
        "    print('with the volume of ' + str(round(result[field].iloc[0], 2)))"
      ],
      "metadata": {
        "colab": {
          "base_uri": "https://localhost:8080/"
        },
        "id": "H6cb-vtM50RR",
        "outputId": "c746d86c-46d0-42ee-91f3-a762d051fe62"
      },
      "execution_count": 24,
      "outputs": [
        {
          "output_type": "stream",
          "name": "stdout",
          "text": [
            "The drug most often sold on Mondays in 2017 is N02BE\n",
            "with the volume of 1160.56\n"
          ]
        }
      ]
    },
    {
      "cell_type": "markdown",
      "source": [
        "## Which three drugs have the highest sales in Jan 2015, Jul 2016, Sep 2017?"
      ],
      "metadata": {
        "id": "njD1IEgf4aRK"
      }
    },
    {
      "cell_type": "code",
      "source": [
        "df_month = pd.read_csv('/content/drive/My Drive/Colab Notebooks/Projects/Pharma Sales/salesmonthly.csv') "
      ],
      "metadata": {
        "id": "x7IXcxna3n_q"
      },
      "execution_count": 11,
      "outputs": []
    },
    {
      "cell_type": "code",
      "source": [
        "df_month.head()"
      ],
      "metadata": {
        "colab": {
          "base_uri": "https://localhost:8080/",
          "height": 206
        },
        "id": "2NUw1JuZ4sd1",
        "outputId": "3e3bc057-a98a-4102-8ca4-d859968979c0"
      },
      "execution_count": 12,
      "outputs": [
        {
          "output_type": "execute_result",
          "data": {
            "text/plain": [
              "        datum   M01AB    M01AE    N02BA     N02BE   N05B  N05C    R03    R06\n",
              "0  2014-01-31  127.69   99.090  152.100   878.030  354.0  50.0  112.0   48.2\n",
              "1  2014-02-28  133.32  126.050  177.000  1001.900  347.0  31.0  122.0   36.2\n",
              "2  2014-03-31  137.44   92.950  147.655   779.275  232.0  20.0  112.0   85.4\n",
              "3  2014-04-30  113.10   89.475  130.900   698.500  209.0  18.0   97.0   73.7\n",
              "4  2014-05-31  101.79  119.933  132.100   628.780  270.0  23.0  107.0  123.7"
            ],
            "text/html": [
              "\n",
              "  <div id=\"df-c1ad5bcf-8827-4fb5-a5d7-c2d69178de82\">\n",
              "    <div class=\"colab-df-container\">\n",
              "      <div>\n",
              "<style scoped>\n",
              "    .dataframe tbody tr th:only-of-type {\n",
              "        vertical-align: middle;\n",
              "    }\n",
              "\n",
              "    .dataframe tbody tr th {\n",
              "        vertical-align: top;\n",
              "    }\n",
              "\n",
              "    .dataframe thead th {\n",
              "        text-align: right;\n",
              "    }\n",
              "</style>\n",
              "<table border=\"1\" class=\"dataframe\">\n",
              "  <thead>\n",
              "    <tr style=\"text-align: right;\">\n",
              "      <th></th>\n",
              "      <th>datum</th>\n",
              "      <th>M01AB</th>\n",
              "      <th>M01AE</th>\n",
              "      <th>N02BA</th>\n",
              "      <th>N02BE</th>\n",
              "      <th>N05B</th>\n",
              "      <th>N05C</th>\n",
              "      <th>R03</th>\n",
              "      <th>R06</th>\n",
              "    </tr>\n",
              "  </thead>\n",
              "  <tbody>\n",
              "    <tr>\n",
              "      <th>0</th>\n",
              "      <td>2014-01-31</td>\n",
              "      <td>127.69</td>\n",
              "      <td>99.090</td>\n",
              "      <td>152.100</td>\n",
              "      <td>878.030</td>\n",
              "      <td>354.0</td>\n",
              "      <td>50.0</td>\n",
              "      <td>112.0</td>\n",
              "      <td>48.2</td>\n",
              "    </tr>\n",
              "    <tr>\n",
              "      <th>1</th>\n",
              "      <td>2014-02-28</td>\n",
              "      <td>133.32</td>\n",
              "      <td>126.050</td>\n",
              "      <td>177.000</td>\n",
              "      <td>1001.900</td>\n",
              "      <td>347.0</td>\n",
              "      <td>31.0</td>\n",
              "      <td>122.0</td>\n",
              "      <td>36.2</td>\n",
              "    </tr>\n",
              "    <tr>\n",
              "      <th>2</th>\n",
              "      <td>2014-03-31</td>\n",
              "      <td>137.44</td>\n",
              "      <td>92.950</td>\n",
              "      <td>147.655</td>\n",
              "      <td>779.275</td>\n",
              "      <td>232.0</td>\n",
              "      <td>20.0</td>\n",
              "      <td>112.0</td>\n",
              "      <td>85.4</td>\n",
              "    </tr>\n",
              "    <tr>\n",
              "      <th>3</th>\n",
              "      <td>2014-04-30</td>\n",
              "      <td>113.10</td>\n",
              "      <td>89.475</td>\n",
              "      <td>130.900</td>\n",
              "      <td>698.500</td>\n",
              "      <td>209.0</td>\n",
              "      <td>18.0</td>\n",
              "      <td>97.0</td>\n",
              "      <td>73.7</td>\n",
              "    </tr>\n",
              "    <tr>\n",
              "      <th>4</th>\n",
              "      <td>2014-05-31</td>\n",
              "      <td>101.79</td>\n",
              "      <td>119.933</td>\n",
              "      <td>132.100</td>\n",
              "      <td>628.780</td>\n",
              "      <td>270.0</td>\n",
              "      <td>23.0</td>\n",
              "      <td>107.0</td>\n",
              "      <td>123.7</td>\n",
              "    </tr>\n",
              "  </tbody>\n",
              "</table>\n",
              "</div>\n",
              "      <button class=\"colab-df-convert\" onclick=\"convertToInteractive('df-c1ad5bcf-8827-4fb5-a5d7-c2d69178de82')\"\n",
              "              title=\"Convert this dataframe to an interactive table.\"\n",
              "              style=\"display:none;\">\n",
              "        \n",
              "  <svg xmlns=\"http://www.w3.org/2000/svg\" height=\"24px\"viewBox=\"0 0 24 24\"\n",
              "       width=\"24px\">\n",
              "    <path d=\"M0 0h24v24H0V0z\" fill=\"none\"/>\n",
              "    <path d=\"M18.56 5.44l.94 2.06.94-2.06 2.06-.94-2.06-.94-.94-2.06-.94 2.06-2.06.94zm-11 1L8.5 8.5l.94-2.06 2.06-.94-2.06-.94L8.5 2.5l-.94 2.06-2.06.94zm10 10l.94 2.06.94-2.06 2.06-.94-2.06-.94-.94-2.06-.94 2.06-2.06.94z\"/><path d=\"M17.41 7.96l-1.37-1.37c-.4-.4-.92-.59-1.43-.59-.52 0-1.04.2-1.43.59L10.3 9.45l-7.72 7.72c-.78.78-.78 2.05 0 2.83L4 21.41c.39.39.9.59 1.41.59.51 0 1.02-.2 1.41-.59l7.78-7.78 2.81-2.81c.8-.78.8-2.07 0-2.86zM5.41 20L4 18.59l7.72-7.72 1.47 1.35L5.41 20z\"/>\n",
              "  </svg>\n",
              "      </button>\n",
              "      \n",
              "  <style>\n",
              "    .colab-df-container {\n",
              "      display:flex;\n",
              "      flex-wrap:wrap;\n",
              "      gap: 12px;\n",
              "    }\n",
              "\n",
              "    .colab-df-convert {\n",
              "      background-color: #E8F0FE;\n",
              "      border: none;\n",
              "      border-radius: 50%;\n",
              "      cursor: pointer;\n",
              "      display: none;\n",
              "      fill: #1967D2;\n",
              "      height: 32px;\n",
              "      padding: 0 0 0 0;\n",
              "      width: 32px;\n",
              "    }\n",
              "\n",
              "    .colab-df-convert:hover {\n",
              "      background-color: #E2EBFA;\n",
              "      box-shadow: 0px 1px 2px rgba(60, 64, 67, 0.3), 0px 1px 3px 1px rgba(60, 64, 67, 0.15);\n",
              "      fill: #174EA6;\n",
              "    }\n",
              "\n",
              "    [theme=dark] .colab-df-convert {\n",
              "      background-color: #3B4455;\n",
              "      fill: #D2E3FC;\n",
              "    }\n",
              "\n",
              "    [theme=dark] .colab-df-convert:hover {\n",
              "      background-color: #434B5C;\n",
              "      box-shadow: 0px 1px 3px 1px rgba(0, 0, 0, 0.15);\n",
              "      filter: drop-shadow(0px 1px 2px rgba(0, 0, 0, 0.3));\n",
              "      fill: #FFFFFF;\n",
              "    }\n",
              "  </style>\n",
              "\n",
              "      <script>\n",
              "        const buttonEl =\n",
              "          document.querySelector('#df-c1ad5bcf-8827-4fb5-a5d7-c2d69178de82 button.colab-df-convert');\n",
              "        buttonEl.style.display =\n",
              "          google.colab.kernel.accessAllowed ? 'block' : 'none';\n",
              "\n",
              "        async function convertToInteractive(key) {\n",
              "          const element = document.querySelector('#df-c1ad5bcf-8827-4fb5-a5d7-c2d69178de82');\n",
              "          const dataTable =\n",
              "            await google.colab.kernel.invokeFunction('convertToInteractive',\n",
              "                                                     [key], {});\n",
              "          if (!dataTable) return;\n",
              "\n",
              "          const docLinkHtml = 'Like what you see? Visit the ' +\n",
              "            '<a target=\"_blank\" href=https://colab.research.google.com/notebooks/data_table.ipynb>data table notebook</a>'\n",
              "            + ' to learn more about interactive tables.';\n",
              "          element.innerHTML = '';\n",
              "          dataTable['output_type'] = 'display_data';\n",
              "          await google.colab.output.renderOutput(dataTable, element);\n",
              "          const docLink = document.createElement('div');\n",
              "          docLink.innerHTML = docLinkHtml;\n",
              "          element.appendChild(docLink);\n",
              "        }\n",
              "      </script>\n",
              "    </div>\n",
              "  </div>\n",
              "  "
            ]
          },
          "metadata": {},
          "execution_count": 12
        }
      ]
    },
    {
      "cell_type": "code",
      "source": [
        "def top3byMonth(month, year):\n",
        "    \"\"\"\n",
        "    given a month and a year\n",
        "    find top 3 drugs sold\n",
        "    \"\"\"\n",
        "    month = str(month) if (month > 9) else '0' + str(month)\n",
        "    year = str(year)\n",
        "    # filter by date\n",
        "    sales = df_month.loc[df_month['datum'].str.contains('^'+year+'\\-'+month+'', flags=re.I, regex=True)]\n",
        "    # reset index\n",
        "    sales = sales.reset_index()\n",
        "    # filter relevant columns\n",
        "    topSales = sales[['M01AB', 'M01AE', 'N02BA', 'N02BE', 'N05B', 'N05C', 'R03', 'R06']]\n",
        "    # sort values horizontally\n",
        "    topSales = topSales.sort_values(by=0, ascending=False, axis=1)\n",
        "    # print results\n",
        "    print('Top 3 drugs by sale in '+calendar.month_name[int(month)]+' '+year)\n",
        "    for field in topSales.columns.values[0:3]:\n",
        "        print(' - Product: ' + str(field) + ', Volume sold: ' + str(round(topSales[field].iloc[0], 2)))\n",
        "    print(\"\\n\")"
      ],
      "metadata": {
        "id": "xvctIBqq4uai"
      },
      "execution_count": 17,
      "outputs": []
    },
    {
      "cell_type": "code",
      "source": [
        "# Top 3 drugs by sale in January 2015\n",
        "top3byMonth(1, 2015)\n",
        "\n",
        "# Top 3 drugs by sale in July 2016\n",
        "top3byMonth(7, 2016)\n",
        "\n",
        "# Top 3 drugs by sale in September 2017\n",
        "top3byMonth(9, 2017)"
      ],
      "metadata": {
        "colab": {
          "base_uri": "https://localhost:8080/"
        },
        "id": "AObWY9zk43PT",
        "outputId": "f2f86a5d-f3f9-407c-e09f-246fb42ac234"
      },
      "execution_count": 18,
      "outputs": [
        {
          "output_type": "stream",
          "name": "stdout",
          "text": [
            "Top 3 drugs by sale in January 2015\n",
            " - Product: N02BE, Volume sold: 1044.24\n",
            " - Product: N05B, Volume sold: 463.0\n",
            " - Product: R03, Volume sold: 177.25\n",
            "\n",
            "\n",
            "Top 3 drugs by sale in July 2016\n",
            " - Product: N02BE, Volume sold: 652.36\n",
            " - Product: N05B, Volume sold: 240.0\n",
            " - Product: M01AB, Volume sold: 203.97\n",
            "\n",
            "\n",
            "Top 3 drugs by sale in September 2017\n",
            " - Product: N02BE, Volume sold: 863.75\n",
            " - Product: N05B, Volume sold: 223.0\n",
            " - Product: R03, Volume sold: 139.0\n",
            "\n",
            "\n"
          ]
        }
      ]
    },
    {
      "cell_type": "markdown",
      "source": [
        "## What medicine sales may be in January 2020?"
      ],
      "metadata": {
        "id": "V3TXRsWF5O8o"
      }
    },
    {
      "cell_type": "markdown",
      "source": [
        "### Scattered Plot for all models"
      ],
      "metadata": {
        "id": "gXgi5lBv6XWl"
      }
    },
    {
      "cell_type": "code",
      "source": [
        "def scatterData(X_train, y_train, X_test, y_test, title):\n",
        "    plt.title('Prediction using ' + title)\n",
        "    plt.xlabel('Month sequence', fontsize=20)\n",
        "    plt.ylabel('Sales', fontsize=20)\n",
        "\n",
        "    # Use Matplotlib Scatter Plot\n",
        "    plt.scatter(X_train, y_train, color='blue', label='Training observation points')\n",
        "    plt.scatter(X_test, y_test, color='cyan', label='Testing observation points')"
      ],
      "metadata": {
        "id": "G09dzqCp48Sj"
      },
      "execution_count": 25,
      "outputs": []
    },
    {
      "cell_type": "markdown",
      "source": [
        "### Linear Regression model"
      ],
      "metadata": {
        "id": "DTjcSzsf6cUD"
      }
    },
    {
      "cell_type": "code",
      "source": [
        "def predictLinearRegression(X_train, y_train, X_test, y_test):\n",
        "\n",
        "    y_train = y_train.reshape(-1, 1)\n",
        "    y_test = y_test.reshape(-1, 1)\n",
        "\n",
        "    scatterData(X_train, y_train, X_test, y_test, 'Linear Regression')\n",
        "\n",
        "    reg = linear_model.LinearRegression()\n",
        "    reg.fit(X_train, y_train)\n",
        "    plt.plot(X_train, reg.predict(X_train), color='red', label='Linear regressor')\n",
        "    plt.legend()\n",
        "    plt.show()\n",
        "\n",
        "    # LINEAR REGRESSION - Predict/Test model\n",
        "    y_predict_linear = reg.predict(X_test)\n",
        "\n",
        "    # LINEAR REGRESSION - Predict for January 2020\n",
        "    linear_predict = reg.predict([[predictFor]])\n",
        "    # linear_predict = reg.predict([[predictFor]])[0]\n",
        "\n",
        "    # LINEAR REGRESSION - Accuracy\n",
        "    accuracy = reg.score(X_train, y_train)\n",
        "\n",
        "    # LINEAR REGRESSION - Error\n",
        "    # error = round(np.mean((y_predict_linear-y_test)**2), 2)\n",
        "    \n",
        "    # Results\n",
        "    print('Linear Regression: ' + str(linear_predict) + ' (Accuracy: ' + str(round(accuracy*100)) + '%)')\n",
        "\n",
        "    return {'regressor':reg, 'values':linear_predict}"
      ],
      "metadata": {
        "id": "8iGisHrX6N0d"
      },
      "execution_count": 26,
      "outputs": []
    },
    {
      "cell_type": "markdown",
      "source": [
        "### Polynomial Regression model"
      ],
      "metadata": {
        "id": "CCL-ql5U6kGr"
      }
    },
    {
      "cell_type": "code",
      "source": [
        "def predictPolynomialRegression(X_train, y_train, X_test, y_test):\n",
        "\n",
        "    y_train = y_train.reshape(-1, 1)\n",
        "    y_test = y_test.reshape(-1, 1)\n",
        "\n",
        "    scatterData(X_train, y_train, X_test, y_test, 'Polynomial Regression')\n",
        "    \n",
        "    poly_reg = PolynomialFeatures(degree = 2)\n",
        "    X_poly = poly_reg.fit_transform(X_train)\n",
        "    poly_reg_model = linear_model.LinearRegression()\n",
        "    poly_reg_model.fit(X_poly, y_train)\n",
        "    plt.plot(X_train, poly_reg_model.predict(poly_reg.fit_transform(X_train)), color='green', label='Polynomial regressor')\n",
        "    plt.legend()\n",
        "    plt.show()\n",
        "\n",
        "    # Polynomial Regression - Predict/Test model\n",
        "    y_predict_polynomial = poly_reg_model.predict(X_poly)\n",
        "\n",
        "    # Polynomial Regression - Predict for January 2020\n",
        "    polynomial_predict = poly_reg_model.predict(poly_reg.fit_transform([[predictFor]]))\n",
        "\n",
        "    # Polynomial Regression - Accuracy\n",
        "    # X_poly_test = poly_reg.fit_transform(X_test)\n",
        "    accuracy = poly_reg_model.score(X_poly, y_train)\n",
        "\n",
        "    # Polynomial Regression - Error\n",
        "    # error = round(np.mean((y_predict_polynomial-y_train)**2), 2)\n",
        "\n",
        "    # Result\n",
        "    print('Polynomial Regression: ' + str(polynomial_predict) + ' (Accuracy: ' + str(round(accuracy*100)) + '%)')\n",
        "    return {'regressor':poly_reg_model, 'values':polynomial_predict}"
      ],
      "metadata": {
        "id": "JZs9Ah3L6hTV"
      },
      "execution_count": 27,
      "outputs": []
    },
    {
      "cell_type": "markdown",
      "source": [
        "### Simple Vector Regression (SVR) model"
      ],
      "metadata": {
        "id": "r6qzDM776o6L"
      }
    },
    {
      "cell_type": "code",
      "source": [
        "def predictSVR(X_train, y_train, X_test, y_test):\n",
        "\n",
        "    y_train = y_train.reshape(-1, 1)\n",
        "    y_test = y_test.reshape(-1, 1)\n",
        "\n",
        "    scatterData(X_train, y_train, X_test, y_test, 'Simple Vector Regression (SVR)')\n",
        "\n",
        "    svr_regressor = SVR(kernel='rbf', gamma='auto')\n",
        "    svr_regressor.fit(X_train, y_train.ravel())\n",
        "\n",
        "    # plt.scatter(X_train, y_train, color='red', label='Actual observation points')\n",
        "    plt.plot(X_train, svr_regressor.predict(X_train), label='SVR regressor')\n",
        "    plt.legend()\n",
        "    plt.show()\n",
        "\n",
        "    # Simple Vector Regression (SVR) - Predict/Test model\n",
        "    y_predict_svr = svr_regressor.predict(X_test)\n",
        "\n",
        "    # Simple Vector Regression (SVR) - Predict for January 2020\n",
        "    svr_predict = svr_regressor.predict([[predictFor]])\n",
        "\n",
        "    # Simple Vector Regression (SVR) - Accuracy\n",
        "    accuracy = svr_regressor.score(X_train, y_train)\n",
        "\n",
        "    # Simple Vector Regression (SVR) - Error\n",
        "    # error = round(np.mean((y_predict_svr-y_train)**2), 2)\n",
        "    \n",
        "    # Result\n",
        "    print('Simple Vector Regression (SVR): ' + str(svr_predict) + ' (Accuracy: ' + str(round(accuracy*100)) + '%)')\n",
        "    return {'regressor':svr_regressor, 'values':svr_predict}"
      ],
      "metadata": {
        "id": "8NZ1MUe_6mkj"
      },
      "execution_count": 28,
      "outputs": []
    },
    {
      "cell_type": "code",
      "source": [
        "product = 'N02BA'"
      ],
      "metadata": {
        "id": "177rKKtJ6rl7"
      },
      "execution_count": 29,
      "outputs": []
    },
    {
      "cell_type": "code",
      "source": [
        "regResults = pd.DataFrame(columns=('Linear', 'Polynomial', 'SVR', 'Voting Regressor'), index=[product])"
      ],
      "metadata": {
        "id": "St6VoR6s6vqc"
      },
      "execution_count": 30,
      "outputs": []
    },
    {
      "cell_type": "code",
      "source": [
        "rcParams['figure.figsize'] = 12, 8"
      ],
      "metadata": {
        "id": "lNwkT3SE6vnm"
      },
      "execution_count": 31,
      "outputs": []
    },
    {
      "cell_type": "code",
      "source": [
        "df_month = pd.read_csv('/content/drive/My Drive/Colab Notebooks/Projects/Pharma Sales/salesmonthly.csv') "
      ],
      "metadata": {
        "id": "M46vAW1t6vkM"
      },
      "execution_count": 32,
      "outputs": []
    },
    {
      "cell_type": "code",
      "source": [
        "df_month = df_month.loc[df_month['datum'].str.contains(\"2014\") | df_month['datum'].str.contains(\"2015\") | df_month['datum'].str.contains(\"2016\") | df_month['datum'].str.contains(\"2017\") | df_month['datum'].str.contains(\"2018\") | df_month['datum'].str.contains(\"2019\")]\n",
        "df_month = df_month.reset_index()"
      ],
      "metadata": {
        "id": "T8BQXMJw7Bn0"
      },
      "execution_count": 33,
      "outputs": []
    },
    {
      "cell_type": "code",
      "source": [
        "df_month"
      ],
      "metadata": {
        "colab": {
          "base_uri": "https://localhost:8080/",
          "height": 424
        },
        "id": "cQiDxxa37H9x",
        "outputId": "be720599-02bf-4aa5-9831-0bef47fe6841"
      },
      "execution_count": 34,
      "outputs": [
        {
          "output_type": "execute_result",
          "data": {
            "text/plain": [
              "    index       datum   M01AB    M01AE    N02BA     N02BE   N05B  N05C    R03  \\\n",
              "0       0  2014-01-31  127.69   99.090  152.100   878.030  354.0  50.0  112.0   \n",
              "1       1  2014-02-28  133.32  126.050  177.000  1001.900  347.0  31.0  122.0   \n",
              "2       2  2014-03-31  137.44   92.950  147.655   779.275  232.0  20.0  112.0   \n",
              "3       3  2014-04-30  113.10   89.475  130.900   698.500  209.0  18.0   97.0   \n",
              "4       4  2014-05-31  101.79  119.933  132.100   628.780  270.0  23.0  107.0   \n",
              "..    ...         ...     ...      ...      ...       ...    ...   ...    ...   \n",
              "65     65  2019-06-30  151.54  101.627  103.200   610.000  193.0  25.0  142.0   \n",
              "66     66  2019-07-31  181.00  103.541   92.800   649.800  250.6  20.0  115.0   \n",
              "67     67  2019-08-31  181.91   88.269   84.200   518.100  237.0  26.0  145.0   \n",
              "68     68  2019-09-30  161.07  111.437   93.500   984.480  227.8  16.0  161.0   \n",
              "69     69  2019-10-31   44.37   37.300   20.650   295.150   86.0   7.0   37.0   \n",
              "\n",
              "       R06  \n",
              "0    48.20  \n",
              "1    36.20  \n",
              "2    85.40  \n",
              "3    73.70  \n",
              "4   123.70  \n",
              "..     ...  \n",
              "65  156.04  \n",
              "66  105.20  \n",
              "67   97.30  \n",
              "68  109.10  \n",
              "69   11.13  \n",
              "\n",
              "[70 rows x 10 columns]"
            ],
            "text/html": [
              "\n",
              "  <div id=\"df-6aa719ad-04b3-4ec7-b390-cce74b8d9051\">\n",
              "    <div class=\"colab-df-container\">\n",
              "      <div>\n",
              "<style scoped>\n",
              "    .dataframe tbody tr th:only-of-type {\n",
              "        vertical-align: middle;\n",
              "    }\n",
              "\n",
              "    .dataframe tbody tr th {\n",
              "        vertical-align: top;\n",
              "    }\n",
              "\n",
              "    .dataframe thead th {\n",
              "        text-align: right;\n",
              "    }\n",
              "</style>\n",
              "<table border=\"1\" class=\"dataframe\">\n",
              "  <thead>\n",
              "    <tr style=\"text-align: right;\">\n",
              "      <th></th>\n",
              "      <th>index</th>\n",
              "      <th>datum</th>\n",
              "      <th>M01AB</th>\n",
              "      <th>M01AE</th>\n",
              "      <th>N02BA</th>\n",
              "      <th>N02BE</th>\n",
              "      <th>N05B</th>\n",
              "      <th>N05C</th>\n",
              "      <th>R03</th>\n",
              "      <th>R06</th>\n",
              "    </tr>\n",
              "  </thead>\n",
              "  <tbody>\n",
              "    <tr>\n",
              "      <th>0</th>\n",
              "      <td>0</td>\n",
              "      <td>2014-01-31</td>\n",
              "      <td>127.69</td>\n",
              "      <td>99.090</td>\n",
              "      <td>152.100</td>\n",
              "      <td>878.030</td>\n",
              "      <td>354.0</td>\n",
              "      <td>50.0</td>\n",
              "      <td>112.0</td>\n",
              "      <td>48.20</td>\n",
              "    </tr>\n",
              "    <tr>\n",
              "      <th>1</th>\n",
              "      <td>1</td>\n",
              "      <td>2014-02-28</td>\n",
              "      <td>133.32</td>\n",
              "      <td>126.050</td>\n",
              "      <td>177.000</td>\n",
              "      <td>1001.900</td>\n",
              "      <td>347.0</td>\n",
              "      <td>31.0</td>\n",
              "      <td>122.0</td>\n",
              "      <td>36.20</td>\n",
              "    </tr>\n",
              "    <tr>\n",
              "      <th>2</th>\n",
              "      <td>2</td>\n",
              "      <td>2014-03-31</td>\n",
              "      <td>137.44</td>\n",
              "      <td>92.950</td>\n",
              "      <td>147.655</td>\n",
              "      <td>779.275</td>\n",
              "      <td>232.0</td>\n",
              "      <td>20.0</td>\n",
              "      <td>112.0</td>\n",
              "      <td>85.40</td>\n",
              "    </tr>\n",
              "    <tr>\n",
              "      <th>3</th>\n",
              "      <td>3</td>\n",
              "      <td>2014-04-30</td>\n",
              "      <td>113.10</td>\n",
              "      <td>89.475</td>\n",
              "      <td>130.900</td>\n",
              "      <td>698.500</td>\n",
              "      <td>209.0</td>\n",
              "      <td>18.0</td>\n",
              "      <td>97.0</td>\n",
              "      <td>73.70</td>\n",
              "    </tr>\n",
              "    <tr>\n",
              "      <th>4</th>\n",
              "      <td>4</td>\n",
              "      <td>2014-05-31</td>\n",
              "      <td>101.79</td>\n",
              "      <td>119.933</td>\n",
              "      <td>132.100</td>\n",
              "      <td>628.780</td>\n",
              "      <td>270.0</td>\n",
              "      <td>23.0</td>\n",
              "      <td>107.0</td>\n",
              "      <td>123.70</td>\n",
              "    </tr>\n",
              "    <tr>\n",
              "      <th>...</th>\n",
              "      <td>...</td>\n",
              "      <td>...</td>\n",
              "      <td>...</td>\n",
              "      <td>...</td>\n",
              "      <td>...</td>\n",
              "      <td>...</td>\n",
              "      <td>...</td>\n",
              "      <td>...</td>\n",
              "      <td>...</td>\n",
              "      <td>...</td>\n",
              "    </tr>\n",
              "    <tr>\n",
              "      <th>65</th>\n",
              "      <td>65</td>\n",
              "      <td>2019-06-30</td>\n",
              "      <td>151.54</td>\n",
              "      <td>101.627</td>\n",
              "      <td>103.200</td>\n",
              "      <td>610.000</td>\n",
              "      <td>193.0</td>\n",
              "      <td>25.0</td>\n",
              "      <td>142.0</td>\n",
              "      <td>156.04</td>\n",
              "    </tr>\n",
              "    <tr>\n",
              "      <th>66</th>\n",
              "      <td>66</td>\n",
              "      <td>2019-07-31</td>\n",
              "      <td>181.00</td>\n",
              "      <td>103.541</td>\n",
              "      <td>92.800</td>\n",
              "      <td>649.800</td>\n",
              "      <td>250.6</td>\n",
              "      <td>20.0</td>\n",
              "      <td>115.0</td>\n",
              "      <td>105.20</td>\n",
              "    </tr>\n",
              "    <tr>\n",
              "      <th>67</th>\n",
              "      <td>67</td>\n",
              "      <td>2019-08-31</td>\n",
              "      <td>181.91</td>\n",
              "      <td>88.269</td>\n",
              "      <td>84.200</td>\n",
              "      <td>518.100</td>\n",
              "      <td>237.0</td>\n",
              "      <td>26.0</td>\n",
              "      <td>145.0</td>\n",
              "      <td>97.30</td>\n",
              "    </tr>\n",
              "    <tr>\n",
              "      <th>68</th>\n",
              "      <td>68</td>\n",
              "      <td>2019-09-30</td>\n",
              "      <td>161.07</td>\n",
              "      <td>111.437</td>\n",
              "      <td>93.500</td>\n",
              "      <td>984.480</td>\n",
              "      <td>227.8</td>\n",
              "      <td>16.0</td>\n",
              "      <td>161.0</td>\n",
              "      <td>109.10</td>\n",
              "    </tr>\n",
              "    <tr>\n",
              "      <th>69</th>\n",
              "      <td>69</td>\n",
              "      <td>2019-10-31</td>\n",
              "      <td>44.37</td>\n",
              "      <td>37.300</td>\n",
              "      <td>20.650</td>\n",
              "      <td>295.150</td>\n",
              "      <td>86.0</td>\n",
              "      <td>7.0</td>\n",
              "      <td>37.0</td>\n",
              "      <td>11.13</td>\n",
              "    </tr>\n",
              "  </tbody>\n",
              "</table>\n",
              "<p>70 rows × 10 columns</p>\n",
              "</div>\n",
              "      <button class=\"colab-df-convert\" onclick=\"convertToInteractive('df-6aa719ad-04b3-4ec7-b390-cce74b8d9051')\"\n",
              "              title=\"Convert this dataframe to an interactive table.\"\n",
              "              style=\"display:none;\">\n",
              "        \n",
              "  <svg xmlns=\"http://www.w3.org/2000/svg\" height=\"24px\"viewBox=\"0 0 24 24\"\n",
              "       width=\"24px\">\n",
              "    <path d=\"M0 0h24v24H0V0z\" fill=\"none\"/>\n",
              "    <path d=\"M18.56 5.44l.94 2.06.94-2.06 2.06-.94-2.06-.94-.94-2.06-.94 2.06-2.06.94zm-11 1L8.5 8.5l.94-2.06 2.06-.94-2.06-.94L8.5 2.5l-.94 2.06-2.06.94zm10 10l.94 2.06.94-2.06 2.06-.94-2.06-.94-.94-2.06-.94 2.06-2.06.94z\"/><path d=\"M17.41 7.96l-1.37-1.37c-.4-.4-.92-.59-1.43-.59-.52 0-1.04.2-1.43.59L10.3 9.45l-7.72 7.72c-.78.78-.78 2.05 0 2.83L4 21.41c.39.39.9.59 1.41.59.51 0 1.02-.2 1.41-.59l7.78-7.78 2.81-2.81c.8-.78.8-2.07 0-2.86zM5.41 20L4 18.59l7.72-7.72 1.47 1.35L5.41 20z\"/>\n",
              "  </svg>\n",
              "      </button>\n",
              "      \n",
              "  <style>\n",
              "    .colab-df-container {\n",
              "      display:flex;\n",
              "      flex-wrap:wrap;\n",
              "      gap: 12px;\n",
              "    }\n",
              "\n",
              "    .colab-df-convert {\n",
              "      background-color: #E8F0FE;\n",
              "      border: none;\n",
              "      border-radius: 50%;\n",
              "      cursor: pointer;\n",
              "      display: none;\n",
              "      fill: #1967D2;\n",
              "      height: 32px;\n",
              "      padding: 0 0 0 0;\n",
              "      width: 32px;\n",
              "    }\n",
              "\n",
              "    .colab-df-convert:hover {\n",
              "      background-color: #E2EBFA;\n",
              "      box-shadow: 0px 1px 2px rgba(60, 64, 67, 0.3), 0px 1px 3px 1px rgba(60, 64, 67, 0.15);\n",
              "      fill: #174EA6;\n",
              "    }\n",
              "\n",
              "    [theme=dark] .colab-df-convert {\n",
              "      background-color: #3B4455;\n",
              "      fill: #D2E3FC;\n",
              "    }\n",
              "\n",
              "    [theme=dark] .colab-df-convert:hover {\n",
              "      background-color: #434B5C;\n",
              "      box-shadow: 0px 1px 3px 1px rgba(0, 0, 0, 0.15);\n",
              "      filter: drop-shadow(0px 1px 2px rgba(0, 0, 0, 0.3));\n",
              "      fill: #FFFFFF;\n",
              "    }\n",
              "  </style>\n",
              "\n",
              "      <script>\n",
              "        const buttonEl =\n",
              "          document.querySelector('#df-6aa719ad-04b3-4ec7-b390-cce74b8d9051 button.colab-df-convert');\n",
              "        buttonEl.style.display =\n",
              "          google.colab.kernel.accessAllowed ? 'block' : 'none';\n",
              "\n",
              "        async function convertToInteractive(key) {\n",
              "          const element = document.querySelector('#df-6aa719ad-04b3-4ec7-b390-cce74b8d9051');\n",
              "          const dataTable =\n",
              "            await google.colab.kernel.invokeFunction('convertToInteractive',\n",
              "                                                     [key], {});\n",
              "          if (!dataTable) return;\n",
              "\n",
              "          const docLinkHtml = 'Like what you see? Visit the ' +\n",
              "            '<a target=\"_blank\" href=https://colab.research.google.com/notebooks/data_table.ipynb>data table notebook</a>'\n",
              "            + ' to learn more about interactive tables.';\n",
              "          element.innerHTML = '';\n",
              "          dataTable['output_type'] = 'display_data';\n",
              "          await google.colab.output.renderOutput(dataTable, element);\n",
              "          const docLink = document.createElement('div');\n",
              "          docLink.innerHTML = docLinkHtml;\n",
              "          element.appendChild(docLink);\n",
              "        }\n",
              "      </script>\n",
              "    </div>\n",
              "  </div>\n",
              "  "
            ]
          },
          "metadata": {},
          "execution_count": 34
        }
      ]
    },
    {
      "cell_type": "code",
      "source": [
        "df_month['datumNumber'] = 1\n",
        "for index, row in df_month.iterrows():\n",
        "    df_month.loc[index, 'datumNumber'] = index+1"
      ],
      "metadata": {
        "id": "oCCxD6yR7Jb1"
      },
      "execution_count": 35,
      "outputs": []
    },
    {
      "cell_type": "code",
      "source": [
        "# The first and the last available month is quite low which may indicate that it might be incomplete\n",
        "# and skewing results so we're dropping it\n",
        "df_month.drop(df_month.head(1).index,inplace=True)\n",
        "df_month.drop(df_month.tail(1).index,inplace=True)"
      ],
      "metadata": {
        "id": "BAqtSv5B7KTt"
      },
      "execution_count": 36,
      "outputs": []
    },
    {
      "cell_type": "code",
      "source": [
        "df_month = df_month[df_month[product] != 0]"
      ],
      "metadata": {
        "id": "pWXLYC_O7KQe"
      },
      "execution_count": 37,
      "outputs": []
    },
    {
      "cell_type": "code",
      "source": [
        "df_month.head()"
      ],
      "metadata": {
        "colab": {
          "base_uri": "https://localhost:8080/",
          "height": 206
        },
        "id": "sqEph9qR7KN8",
        "outputId": "ed7678d3-02a2-40a5-c05f-1426b430e6df"
      },
      "execution_count": 38,
      "outputs": [
        {
          "output_type": "execute_result",
          "data": {
            "text/plain": [
              "   index       datum   M01AB    M01AE    N02BA     N02BE   N05B  N05C    R03  \\\n",
              "1      1  2014-02-28  133.32  126.050  177.000  1001.900  347.0  31.0  122.0   \n",
              "2      2  2014-03-31  137.44   92.950  147.655   779.275  232.0  20.0  112.0   \n",
              "3      3  2014-04-30  113.10   89.475  130.900   698.500  209.0  18.0   97.0   \n",
              "4      4  2014-05-31  101.79  119.933  132.100   628.780  270.0  23.0  107.0   \n",
              "5      5  2014-06-30  112.07   94.710  122.900   548.225  323.0  23.0   57.0   \n",
              "\n",
              "     R06  datumNumber  \n",
              "1   36.2            2  \n",
              "2   85.4            3  \n",
              "3   73.7            4  \n",
              "4  123.7            5  \n",
              "5  109.3            6  "
            ],
            "text/html": [
              "\n",
              "  <div id=\"df-cea02023-0023-46dc-a348-48b49562b508\">\n",
              "    <div class=\"colab-df-container\">\n",
              "      <div>\n",
              "<style scoped>\n",
              "    .dataframe tbody tr th:only-of-type {\n",
              "        vertical-align: middle;\n",
              "    }\n",
              "\n",
              "    .dataframe tbody tr th {\n",
              "        vertical-align: top;\n",
              "    }\n",
              "\n",
              "    .dataframe thead th {\n",
              "        text-align: right;\n",
              "    }\n",
              "</style>\n",
              "<table border=\"1\" class=\"dataframe\">\n",
              "  <thead>\n",
              "    <tr style=\"text-align: right;\">\n",
              "      <th></th>\n",
              "      <th>index</th>\n",
              "      <th>datum</th>\n",
              "      <th>M01AB</th>\n",
              "      <th>M01AE</th>\n",
              "      <th>N02BA</th>\n",
              "      <th>N02BE</th>\n",
              "      <th>N05B</th>\n",
              "      <th>N05C</th>\n",
              "      <th>R03</th>\n",
              "      <th>R06</th>\n",
              "      <th>datumNumber</th>\n",
              "    </tr>\n",
              "  </thead>\n",
              "  <tbody>\n",
              "    <tr>\n",
              "      <th>1</th>\n",
              "      <td>1</td>\n",
              "      <td>2014-02-28</td>\n",
              "      <td>133.32</td>\n",
              "      <td>126.050</td>\n",
              "      <td>177.000</td>\n",
              "      <td>1001.900</td>\n",
              "      <td>347.0</td>\n",
              "      <td>31.0</td>\n",
              "      <td>122.0</td>\n",
              "      <td>36.2</td>\n",
              "      <td>2</td>\n",
              "    </tr>\n",
              "    <tr>\n",
              "      <th>2</th>\n",
              "      <td>2</td>\n",
              "      <td>2014-03-31</td>\n",
              "      <td>137.44</td>\n",
              "      <td>92.950</td>\n",
              "      <td>147.655</td>\n",
              "      <td>779.275</td>\n",
              "      <td>232.0</td>\n",
              "      <td>20.0</td>\n",
              "      <td>112.0</td>\n",
              "      <td>85.4</td>\n",
              "      <td>3</td>\n",
              "    </tr>\n",
              "    <tr>\n",
              "      <th>3</th>\n",
              "      <td>3</td>\n",
              "      <td>2014-04-30</td>\n",
              "      <td>113.10</td>\n",
              "      <td>89.475</td>\n",
              "      <td>130.900</td>\n",
              "      <td>698.500</td>\n",
              "      <td>209.0</td>\n",
              "      <td>18.0</td>\n",
              "      <td>97.0</td>\n",
              "      <td>73.7</td>\n",
              "      <td>4</td>\n",
              "    </tr>\n",
              "    <tr>\n",
              "      <th>4</th>\n",
              "      <td>4</td>\n",
              "      <td>2014-05-31</td>\n",
              "      <td>101.79</td>\n",
              "      <td>119.933</td>\n",
              "      <td>132.100</td>\n",
              "      <td>628.780</td>\n",
              "      <td>270.0</td>\n",
              "      <td>23.0</td>\n",
              "      <td>107.0</td>\n",
              "      <td>123.7</td>\n",
              "      <td>5</td>\n",
              "    </tr>\n",
              "    <tr>\n",
              "      <th>5</th>\n",
              "      <td>5</td>\n",
              "      <td>2014-06-30</td>\n",
              "      <td>112.07</td>\n",
              "      <td>94.710</td>\n",
              "      <td>122.900</td>\n",
              "      <td>548.225</td>\n",
              "      <td>323.0</td>\n",
              "      <td>23.0</td>\n",
              "      <td>57.0</td>\n",
              "      <td>109.3</td>\n",
              "      <td>6</td>\n",
              "    </tr>\n",
              "  </tbody>\n",
              "</table>\n",
              "</div>\n",
              "      <button class=\"colab-df-convert\" onclick=\"convertToInteractive('df-cea02023-0023-46dc-a348-48b49562b508')\"\n",
              "              title=\"Convert this dataframe to an interactive table.\"\n",
              "              style=\"display:none;\">\n",
              "        \n",
              "  <svg xmlns=\"http://www.w3.org/2000/svg\" height=\"24px\"viewBox=\"0 0 24 24\"\n",
              "       width=\"24px\">\n",
              "    <path d=\"M0 0h24v24H0V0z\" fill=\"none\"/>\n",
              "    <path d=\"M18.56 5.44l.94 2.06.94-2.06 2.06-.94-2.06-.94-.94-2.06-.94 2.06-2.06.94zm-11 1L8.5 8.5l.94-2.06 2.06-.94-2.06-.94L8.5 2.5l-.94 2.06-2.06.94zm10 10l.94 2.06.94-2.06 2.06-.94-2.06-.94-.94-2.06-.94 2.06-2.06.94z\"/><path d=\"M17.41 7.96l-1.37-1.37c-.4-.4-.92-.59-1.43-.59-.52 0-1.04.2-1.43.59L10.3 9.45l-7.72 7.72c-.78.78-.78 2.05 0 2.83L4 21.41c.39.39.9.59 1.41.59.51 0 1.02-.2 1.41-.59l7.78-7.78 2.81-2.81c.8-.78.8-2.07 0-2.86zM5.41 20L4 18.59l7.72-7.72 1.47 1.35L5.41 20z\"/>\n",
              "  </svg>\n",
              "      </button>\n",
              "      \n",
              "  <style>\n",
              "    .colab-df-container {\n",
              "      display:flex;\n",
              "      flex-wrap:wrap;\n",
              "      gap: 12px;\n",
              "    }\n",
              "\n",
              "    .colab-df-convert {\n",
              "      background-color: #E8F0FE;\n",
              "      border: none;\n",
              "      border-radius: 50%;\n",
              "      cursor: pointer;\n",
              "      display: none;\n",
              "      fill: #1967D2;\n",
              "      height: 32px;\n",
              "      padding: 0 0 0 0;\n",
              "      width: 32px;\n",
              "    }\n",
              "\n",
              "    .colab-df-convert:hover {\n",
              "      background-color: #E2EBFA;\n",
              "      box-shadow: 0px 1px 2px rgba(60, 64, 67, 0.3), 0px 1px 3px 1px rgba(60, 64, 67, 0.15);\n",
              "      fill: #174EA6;\n",
              "    }\n",
              "\n",
              "    [theme=dark] .colab-df-convert {\n",
              "      background-color: #3B4455;\n",
              "      fill: #D2E3FC;\n",
              "    }\n",
              "\n",
              "    [theme=dark] .colab-df-convert:hover {\n",
              "      background-color: #434B5C;\n",
              "      box-shadow: 0px 1px 3px 1px rgba(0, 0, 0, 0.15);\n",
              "      filter: drop-shadow(0px 1px 2px rgba(0, 0, 0, 0.3));\n",
              "      fill: #FFFFFF;\n",
              "    }\n",
              "  </style>\n",
              "\n",
              "      <script>\n",
              "        const buttonEl =\n",
              "          document.querySelector('#df-cea02023-0023-46dc-a348-48b49562b508 button.colab-df-convert');\n",
              "        buttonEl.style.display =\n",
              "          google.colab.kernel.accessAllowed ? 'block' : 'none';\n",
              "\n",
              "        async function convertToInteractive(key) {\n",
              "          const element = document.querySelector('#df-cea02023-0023-46dc-a348-48b49562b508');\n",
              "          const dataTable =\n",
              "            await google.colab.kernel.invokeFunction('convertToInteractive',\n",
              "                                                     [key], {});\n",
              "          if (!dataTable) return;\n",
              "\n",
              "          const docLinkHtml = 'Like what you see? Visit the ' +\n",
              "            '<a target=\"_blank\" href=https://colab.research.google.com/notebooks/data_table.ipynb>data table notebook</a>'\n",
              "            + ' to learn more about interactive tables.';\n",
              "          element.innerHTML = '';\n",
              "          dataTable['output_type'] = 'display_data';\n",
              "          await google.colab.output.renderOutput(dataTable, element);\n",
              "          const docLink = document.createElement('div');\n",
              "          docLink.innerHTML = docLinkHtml;\n",
              "          element.appendChild(docLink);\n",
              "        }\n",
              "      </script>\n",
              "    </div>\n",
              "  </div>\n",
              "  "
            ]
          },
          "metadata": {},
          "execution_count": 38
        }
      ]
    },
    {
      "cell_type": "code",
      "source": [
        "predictFor = len(df_month)+5\n",
        "print('Predictions for the product ' + str(product) + ' sales in January 2020')"
      ],
      "metadata": {
        "colab": {
          "base_uri": "https://localhost:8080/"
        },
        "id": "zny3DNxa7g7h",
        "outputId": "43cc619e-91d5-407a-a476-02181e515ded"
      },
      "execution_count": 41,
      "outputs": [
        {
          "output_type": "stream",
          "name": "stdout",
          "text": [
            "Predictions for the product N02BA sales in January 2020\n"
          ]
        }
      ]
    },
    {
      "cell_type": "code",
      "source": [
        "regValues = {}"
      ],
      "metadata": {
        "id": "DZTArsJA7nDV"
      },
      "execution_count": 42,
      "outputs": []
    },
    {
      "cell_type": "code",
      "source": [
        "dfSplit = df_month[['datumNumber', product]]\n",
        "\n",
        "# We are going to keep 30% of the dataset in test dataset\n",
        "train, test = train_test_split(dfSplit, test_size=3/10, random_state=0)\n",
        "\n",
        "trainSorted = train.sort_values('datumNumber', ascending=True)\n",
        "testSorted = test.sort_values('datumNumber', ascending=True)\n",
        "\n",
        "X_train = trainSorted[['datumNumber']].values\n",
        "y_train = trainSorted[product].values\n",
        "X_test = testSorted[['datumNumber']].values\n",
        "y_test = testSorted[product].values"
      ],
      "metadata": {
        "id": "8xOAGdsu7pDU"
      },
      "execution_count": 43,
      "outputs": []
    },
    {
      "cell_type": "markdown",
      "source": [
        "### Linear Regression's result"
      ],
      "metadata": {
        "id": "aTM7Vjlj71di"
      }
    },
    {
      "cell_type": "code",
      "source": [
        "linearResult = predictLinearRegression(X_train, y_train, X_test, y_test)\n",
        "reg = linearResult['regressor']\n",
        "regValues['Linear'] = round(linearResult['values'][0][0])"
      ],
      "metadata": {
        "colab": {
          "base_uri": "https://localhost:8080/",
          "height": 540
        },
        "id": "DR8N_3UM7xXa",
        "outputId": "9a4d949e-9b98-45fc-930f-d31abe2e75e0"
      },
      "execution_count": 44,
      "outputs": [
        {
          "output_type": "display_data",
          "data": {
            "text/plain": [
              "<Figure size 864x576 with 1 Axes>"
            ],
            "image/png": "[encoded data removed]"
          },
          "metadata": {
            "needs_background": "light"
          }
        },
        {
          "output_type": "stream",
          "name": "stdout",
          "text": [
            "Linear Regression: [[85.72]] (Accuracy: 58%)\n"
          ]
        }
      ]
    },
    {
      "cell_type": "markdown",
      "source": [
        "### Polynomial Regression's result"
      ],
      "metadata": {
        "id": "AfBOL_Jh75kg"
      }
    },
    {
      "cell_type": "code",
      "source": [
        "polynomialResult = predictPolynomialRegression(X_train, y_train, X_test, y_test)\n",
        "polynomial_regressor = polynomialResult['regressor']\n",
        "regValues['Polynomial'] = round(polynomialResult['values'][0][0])"
      ],
      "metadata": {
        "colab": {
          "base_uri": "https://localhost:8080/",
          "height": 540
        },
        "id": "KMzA6jF6722l",
        "outputId": "76b0baf3-31b8-48aa-8910-466b7ea9b9ef"
      },
      "execution_count": 45,
      "outputs": [
        {
          "output_type": "display_data",
          "data": {
            "text/plain": [
              "<Figure size 864x576 with 1 Axes>"
            ],
            "image/png": "[encoded data removed]"
          },
          "metadata": {
            "needs_background": "light"
          }
        },
        {
          "output_type": "stream",
          "name": "stdout",
          "text": [
            "Polynomial Regression: [[82.59]] (Accuracy: 58%)\n"
          ]
        }
      ]
    },
    {
      "cell_type": "markdown",
      "source": [
        "### Simple Vector Regression (SVR)'s result"
      ],
      "metadata": {
        "id": "4aPX3j2d7-gM"
      }
    },
    {
      "cell_type": "code",
      "source": [
        "svrResult = predictSVR(X_train, y_train, X_test, y_test)\n",
        "svr_regressor = svrResult['regressor']\n",
        "regValues['SVR'] = round(svrResult['values'][0])"
      ],
      "metadata": {
        "colab": {
          "base_uri": "https://localhost:8080/",
          "height": 540
        },
        "id": "FMjKcLDY78Ja",
        "outputId": "f2b7a95e-4997-42af-ae52-b9f18500da45"
      },
      "execution_count": 46,
      "outputs": [
        {
          "output_type": "display_data",
          "data": {
            "text/plain": [
              "<Figure size 864x576 with 1 Axes>"
            ],
            "image/png": "[encoded data removed]"
          },
          "metadata": {
            "needs_background": "light"
          }
        },
        {
          "output_type": "stream",
          "name": "stdout",
          "text": [
            "Simple Vector Regression (SVR): [121.33] (Accuracy: 9%)\n"
          ]
        }
      ]
    },
    {
      "cell_type": "markdown",
      "source": [
        "### Voting Regressor's result"
      ],
      "metadata": {
        "id": "WB3-LZwQ8HZE"
      }
    },
    {
      "cell_type": "code",
      "source": [
        "vRegressor = VotingRegressor(estimators=[('reg', reg), ('polynomial_regressor', polynomial_regressor), ('svr_regressor', svr_regressor)])\n",
        "\n",
        "vRegressorRes = vRegressor.fit(X_train, y_train.ravel())\n",
        "\n",
        "# VotingRegressor - Predict for January 2020\n",
        "vRegressor_predict = vRegressor.predict([[predictFor]])\n",
        "regValues['Voting Regressor'] = round(vRegressor_predict[0])\n",
        "print('Voting Regressor January 2020 predicted value: ' + str(round(vRegressor_predict[0])))\n",
        "regResults.loc[product] = regValues"
      ],
      "metadata": {
        "colab": {
          "base_uri": "https://localhost:8080/"
        },
        "id": "t0VjsSl-8CRX",
        "outputId": "88a671ab-3660-483d-e21e-677bd97f0ada"
      },
      "execution_count": 47,
      "outputs": [
        {
          "output_type": "stream",
          "name": "stdout",
          "text": [
            "Voting Regressor January 2020 predicted value: 98\n"
          ]
        }
      ]
    },
    {
      "cell_type": "code",
      "source": [
        "regResults"
      ],
      "metadata": {
        "colab": {
          "base_uri": "https://localhost:8080/",
          "height": 81
        },
        "id": "gMhIIM2p8LPp",
        "outputId": "97d9a2bb-40d8-4d90-c0b2-8a251378c6db"
      },
      "execution_count": 48,
      "outputs": [
        {
          "output_type": "execute_result",
          "data": {
            "text/plain": [
              "      Linear Polynomial  SVR Voting Regressor\n",
              "N02BA     86         83  121               98"
            ],
            "text/html": [
              "\n",
              "  <div id=\"df-6b89f3d2-d915-4319-ad5d-235c3f6fd49e\">\n",
              "    <div class=\"colab-df-container\">\n",
              "      <div>\n",
              "<style scoped>\n",
              "    .dataframe tbody tr th:only-of-type {\n",
              "        vertical-align: middle;\n",
              "    }\n",
              "\n",
              "    .dataframe tbody tr th {\n",
              "        vertical-align: top;\n",
              "    }\n",
              "\n",
              "    .dataframe thead th {\n",
              "        text-align: right;\n",
              "    }\n",
              "</style>\n",
              "<table border=\"1\" class=\"dataframe\">\n",
              "  <thead>\n",
              "    <tr style=\"text-align: right;\">\n",
              "      <th></th>\n",
              "      <th>Linear</th>\n",
              "      <th>Polynomial</th>\n",
              "      <th>SVR</th>\n",
              "      <th>Voting Regressor</th>\n",
              "    </tr>\n",
              "  </thead>\n",
              "  <tbody>\n",
              "    <tr>\n",
              "      <th>N02BA</th>\n",
              "      <td>86</td>\n",
              "      <td>83</td>\n",
              "      <td>121</td>\n",
              "      <td>98</td>\n",
              "    </tr>\n",
              "  </tbody>\n",
              "</table>\n",
              "</div>\n",
              "      <button class=\"colab-df-convert\" onclick=\"convertToInteractive('df-6b89f3d2-d915-4319-ad5d-235c3f6fd49e')\"\n",
              "              title=\"Convert this dataframe to an interactive table.\"\n",
              "              style=\"display:none;\">\n",
              "        \n",
              "  <svg xmlns=\"http://www.w3.org/2000/svg\" height=\"24px\"viewBox=\"0 0 24 24\"\n",
              "       width=\"24px\">\n",
              "    <path d=\"M0 0h24v24H0V0z\" fill=\"none\"/>\n",
              "    <path d=\"M18.56 5.44l.94 2.06.94-2.06 2.06-.94-2.06-.94-.94-2.06-.94 2.06-2.06.94zm-11 1L8.5 8.5l.94-2.06 2.06-.94-2.06-.94L8.5 2.5l-.94 2.06-2.06.94zm10 10l.94 2.06.94-2.06 2.06-.94-2.06-.94-.94-2.06-.94 2.06-2.06.94z\"/><path d=\"M17.41 7.96l-1.37-1.37c-.4-.4-.92-.59-1.43-.59-.52 0-1.04.2-1.43.59L10.3 9.45l-7.72 7.72c-.78.78-.78 2.05 0 2.83L4 21.41c.39.39.9.59 1.41.59.51 0 1.02-.2 1.41-.59l7.78-7.78 2.81-2.81c.8-.78.8-2.07 0-2.86zM5.41 20L4 18.59l7.72-7.72 1.47 1.35L5.41 20z\"/>\n",
              "  </svg>\n",
              "      </button>\n",
              "      \n",
              "  <style>\n",
              "    .colab-df-container {\n",
              "      display:flex;\n",
              "      flex-wrap:wrap;\n",
              "      gap: 12px;\n",
              "    }\n",
              "\n",
              "    .colab-df-convert {\n",
              "      background-color: #E8F0FE;\n",
              "      border: none;\n",
              "      border-radius: 50%;\n",
              "      cursor: pointer;\n",
              "      display: none;\n",
              "      fill: #1967D2;\n",
              "      height: 32px;\n",
              "      padding: 0 0 0 0;\n",
              "      width: 32px;\n",
              "    }\n",
              "\n",
              "    .colab-df-convert:hover {\n",
              "      background-color: #E2EBFA;\n",
              "      box-shadow: 0px 1px 2px rgba(60, 64, 67, 0.3), 0px 1px 3px 1px rgba(60, 64, 67, 0.15);\n",
              "      fill: #174EA6;\n",
              "    }\n",
              "\n",
              "    [theme=dark] .colab-df-convert {\n",
              "      background-color: #3B4455;\n",
              "      fill: #D2E3FC;\n",
              "    }\n",
              "\n",
              "    [theme=dark] .colab-df-convert:hover {\n",
              "      background-color: #434B5C;\n",
              "      box-shadow: 0px 1px 3px 1px rgba(0, 0, 0, 0.15);\n",
              "      filter: drop-shadow(0px 1px 2px rgba(0, 0, 0, 0.3));\n",
              "      fill: #FFFFFF;\n",
              "    }\n",
              "  </style>\n",
              "\n",
              "      <script>\n",
              "        const buttonEl =\n",
              "          document.querySelector('#df-6b89f3d2-d915-4319-ad5d-235c3f6fd49e button.colab-df-convert');\n",
              "        buttonEl.style.display =\n",
              "          google.colab.kernel.accessAllowed ? 'block' : 'none';\n",
              "\n",
              "        async function convertToInteractive(key) {\n",
              "          const element = document.querySelector('#df-6b89f3d2-d915-4319-ad5d-235c3f6fd49e');\n",
              "          const dataTable =\n",
              "            await google.colab.kernel.invokeFunction('convertToInteractive',\n",
              "                                                     [key], {});\n",
              "          if (!dataTable) return;\n",
              "\n",
              "          const docLinkHtml = 'Like what you see? Visit the ' +\n",
              "            '<a target=\"_blank\" href=https://colab.research.google.com/notebooks/data_table.ipynb>data table notebook</a>'\n",
              "            + ' to learn more about interactive tables.';\n",
              "          element.innerHTML = '';\n",
              "          dataTable['output_type'] = 'display_data';\n",
              "          await google.colab.output.renderOutput(dataTable, element);\n",
              "          const docLink = document.createElement('div');\n",
              "          docLink.innerHTML = docLinkHtml;\n",
              "          element.appendChild(docLink);\n",
              "        }\n",
              "      </script>\n",
              "    </div>\n",
              "  </div>\n",
              "  "
            ]
          },
          "metadata": {},
          "execution_count": 48
        }
      ]
    }
  ]
}